{
 "cells": [
  {
   "cell_type": "code",
   "id": "initial_id",
   "metadata": {
    "collapsed": true,
    "ExecuteTime": {
     "end_time": "2024-09-14T07:36:40.907637Z",
     "start_time": "2024-09-14T07:36:40.904776Z"
    }
   },
   "source": [
    "from datasets import BaseDataset\n",
    "from config.features import ALL_FEATURES\n",
    "from datasets import base_collate\n",
    "from torch.utils.data import DataLoader"
   ],
   "outputs": [],
   "execution_count": 2
  },
  {
   "metadata": {
    "ExecuteTime": {
     "end_time": "2024-09-14T07:36:45.346325Z",
     "start_time": "2024-09-14T07:36:43.961556Z"
    }
   },
   "cell_type": "code",
   "source": "ds = BaseDataset('mdnf', 805, 810, ALL_FEATURES, max_rows=100)",
   "id": "867c5d368ebfdd8d",
   "outputs": [
    {
     "name": "stderr",
     "output_type": "stream",
     "text": [
      "2024-09-14 15:36:45,056 - common.py - INFO - Read dataframe from csv D:/codes/www\\data\\mdnf/mdnf_6h_805.csv | sample number: 76291\n"
     ]
    }
   ],
   "execution_count": 3
  },
  {
   "metadata": {
    "ExecuteTime": {
     "end_time": "2024-09-14T07:37:14.130806Z",
     "start_time": "2024-09-14T07:37:14.127751Z"
    }
   },
   "cell_type": "code",
   "source": "loader = DataLoader(ds, batch_size=4, collate_fn=base_collate)",
   "id": "fb1c1b725ed3e88d",
   "outputs": [],
   "execution_count": 4
  },
  {
   "metadata": {
    "ExecuteTime": {
     "end_time": "2024-09-14T07:37:39.666163Z",
     "start_time": "2024-09-14T07:37:39.662925Z"
    }
   },
   "cell_type": "code",
   "source": "iter = iter(loader)",
   "id": "30d1e03d3d3cb52e",
   "outputs": [],
   "execution_count": 6
  },
  {
   "metadata": {
    "ExecuteTime": {
     "end_time": "2024-09-14T07:37:48.586384Z",
     "start_time": "2024-09-14T07:37:48.580516Z"
    }
   },
   "cell_type": "code",
   "source": "batch = next(iter)",
   "id": "6353f94bd868c5c4",
   "outputs": [],
   "execution_count": 7
  },
  {
   "metadata": {
    "ExecuteTime": {
     "end_time": "2024-09-14T07:38:16.136625Z",
     "start_time": "2024-09-14T07:38:16.133777Z"
    }
   },
   "cell_type": "code",
   "source": "config, feature, label = batch",
   "id": "feb6ddd168d60a3c",
   "outputs": [],
   "execution_count": 9
  },
  {
   "metadata": {
    "ExecuteTime": {
     "end_time": "2024-09-14T07:38:32.346846Z",
     "start_time": "2024-09-14T07:38:32.344009Z"
    }
   },
   "cell_type": "code",
   "source": "label",
   "id": "6a305a3e780f757e",
   "outputs": [
    {
     "data": {
      "text/plain": [
       "tensor([0., 0., 0., 0.], dtype=torch.float64)"
      ]
     },
     "execution_count": 12,
     "metadata": {},
     "output_type": "execute_result"
    }
   ],
   "execution_count": 12
  }
 ],
 "metadata": {
  "kernelspec": {
   "display_name": "Python 3",
   "language": "python",
   "name": "python3"
  },
  "language_info": {
   "codemirror_mode": {
    "name": "ipython",
    "version": 2
   },
   "file_extension": ".py",
   "mimetype": "text/x-python",
   "name": "python",
   "nbconvert_exporter": "python",
   "pygments_lexer": "ipython2",
   "version": "2.7.6"
  }
 },
 "nbformat": 4,
 "nbformat_minor": 5
}
