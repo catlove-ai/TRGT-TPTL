{
 "cells": [
  {
   "cell_type": "code",
   "id": "initial_id",
   "metadata": {
    "collapsed": true,
    "ExecuteTime": {
     "end_time": "2024-10-09T02:33:56.619260Z",
     "start_time": "2024-10-09T02:33:08.213733Z"
    }
   },
   "source": [
    "from config.features import ACTIVE_FEATURES\n",
    "from torch.utils.data import DataLoader\n",
    "from utils.datasets import BaseDataset, base_collate\n",
    "\n",
    "val_dataset = BaseDataset('dhp', 826, 826, features=ACTIVE_FEATURES, max_rows=None, minus_label_col=None)\n",
    "val_loader = DataLoader(val_dataset, batch_size=1024, shuffle=True, collate_fn=base_collate)"
   ],
   "outputs": [
    {
     "name": "stderr",
     "output_type": "stream",
     "text": [
      "D:\\codes\\www\\utils\\common.py:33: DtypeWarning: Columns (1) have mixed types. Specify dtype option on import or set low_memory=False.\n",
      "  new_df = pd.read_csv(csv_file, usecols=columns, sep=sep)\n",
      "2024-10-09 10:33:47,071 - common.py - INFO - Read dataframe from csv D:/codes/www\\processed_data\\dhp/dhp_6h_826.csv | sample number: 601324\n",
      "2024-10-09 10:33:47,072 - common.py - INFO - sample num: 601324\n"
     ]
    }
   ],
   "execution_count": 1
  },
  {
   "metadata": {
    "ExecuteTime": {
     "end_time": "2024-10-09T02:37:51.259792Z",
     "start_time": "2024-10-09T02:37:51.255829Z"
    }
   },
   "cell_type": "code",
   "source": [
    "import numpy as np\n",
    "import os\n",
    "import pandas as pd\n",
    "import torch\n",
    "from tqdm.auto import tqdm\n",
    "\n",
    "\n",
    "def predict(model, test_loader, save_path=None, prefix='default', label_col='ltv3'):\n",
    "    model.eval()\n",
    "    # init\n",
    "    result = {\n",
    "        'user_type': [],\n",
    "        'is_pay': [],\n",
    "        'pay_probs': [],\n",
    "        label_col: [],\n",
    "        'p' + label_col: []\n",
    "    }\n",
    "    loss = []\n",
    "    for batch in tqdm(test_loader, total=len(test_loader), desc='Predicting'):\n",
    "        config, inputs, labels = batch\n",
    "        if isinstance(labels, dict):\n",
    "            labels = labels[label_col]\n",
    "        # user_type\n",
    "        result[\"user_type\"] += inputs[\"user_type\"].tolist()\n",
    "        # ground\n",
    "        result[\"is_pay\"] += (labels > 0).to(torch.int32).tolist()\n",
    "        result[label_col] += labels.tolist()\n",
    "        # predict\n",
    "        predict_result = model(batch)\n",
    "        result[\"pay_probs\"] += predict_result['prediction_p'].squeeze().tolist()\n",
    "        result['p' + label_col] += predict_result['prediction_v'].squeeze().tolist()\n",
    "        loss.append(predict_result['loss'].detach().item())\n",
    "\n",
    "    result_df = pd.DataFrame(result)\n",
    "    if save_path is not None:\n",
    "        save_file = os.path.join(save_path, f'{prefix}_prediction.csv')\n",
    "        result_df.to_csv(save_file, index=False)\n",
    "\n",
    "    return result_df, np.mean(loss).item()"
   ],
   "id": "3548826cc44567ac",
   "outputs": [],
   "execution_count": 3
  },
  {
   "metadata": {
    "ExecuteTime": {
     "end_time": "2024-10-09T03:19:49.090027Z",
     "start_time": "2024-10-09T02:38:58.346629Z"
    }
   },
   "cell_type": "code",
   "source": [
    "from utils.common import evaluate\n",
    "from modeling.cmltv_model import CMLTV_Model\n",
    "\n",
    "eval_result_list = {}\n",
    "for e in range(1, 11):\n",
    "    model = CMLTV_Model(features=ACTIVE_FEATURES, device='cuda:0')\n",
    "    model.load_weights(rf'D:\\codes\\www\\checkpoints\\dhp\\dhp_cmltv_active_seed_42_test_old\\{e}.pth')\n",
    "    model.eval()\n",
    "    predict_df, val_loss = predict(model, val_loader)\n",
    "    eval_result = evaluate(predict_df)\n",
    "    print(eval_result)\n",
    "    eval_result_list[e] = eval_result\n",
    "    pd.DataFrame(eval_result_list).T.to_csv(os.path.join(r'D:\\codes\\www\\checkpoints\\dhp\\dhp_cmltv_active_seed_42_test_old', 'epoch_evaluation_new.csv'))"
   ],
   "id": "58f12f7217be42c1",
   "outputs": [
    {
     "name": "stderr",
     "output_type": "stream",
     "text": [
      "2024-10-09 10:38:58,427 - cmltv_model.py - INFO - base model info: {'hidden_dim': 172, 'params': {'Total': 388382, 'Trainable': 388382}, 'device': 'cuda:0'}\n"
     ]
    },
    {
     "data": {
      "text/plain": [
       "Predicting:   0%|          | 0/588 [00:00<?, ?it/s]"
      ],
      "application/vnd.jupyter.widget-view+json": {
       "version_major": 2,
       "version_minor": 0,
       "model_id": "4c0d9df07c614b22a611f19bfc8d58f0"
      }
     },
     "metadata": {},
     "output_type": "display_data"
    },
    {
     "name": "stderr",
     "output_type": "stream",
     "text": [
      "2024-10-09 10:43:07,554 - cmltv_model.py - INFO - base model info: {'hidden_dim': 172, 'params': {'Total': 388382, 'Trainable': 388382}, 'device': 'cuda:0'}\n"
     ]
    },
    {
     "name": "stdout",
     "output_type": "stream",
     "text": [
      "{'auc': 0.8564105005222603, 'gini_by_pltv': 0.6970724979183, 'gini_by_p': 0.6837490185200173, 'rmse': 19.841061821515815, 'nrmse': 0.0025102557972565558, 'mae': 0.4203760231544224, 'nmae': 5.318522560152105e-05, 'top_0.01_p_by_pltv': 0.09462830533843339, 'top_0.01_r_by_pltv': 0.134994068801898, 'top_0.03_p_by_pltv': 0.06092355452076057, 'top_0.03_r_by_pltv': 0.2607354685646501, 'top_0.05_p_by_pltv': 0.04849331470764318, 'top_0.05_r_by_pltv': 0.3459074733096085, 'top_0.1_p_by_pltv': 0.0347568682232422, 'top_0.1_r_by_pltv': 0.4958481613285884, 'top_0.01_p_by_p': 0.10793281224014635, 'top_0.01_r_by_p': 0.15397390272835113, 'top_0.03_p_by_p': 0.07511502854925439, 'top_0.03_r_by_p': 0.32147093712930014, 'top_0.05_p_by_p': 0.05907004589902215, 'top_0.05_r_by_p': 0.4213523131672598, 'top_0.1_p_by_p': 0.03947981108228564, 'top_0.1_r_by_p': 0.563226571767497, 'top_amount_recall_by_pltv': {}, 'top_0.01_amount_recall_by_pltv': 34007.1, 'top_0.05_amount_recall_by_pltv': 71231.1, 'top_0.1_amount_recall_by_pltv': 102630.1, 'top_amount_recall_by_p': {}, 'top_0.01_amount_recall_by_p': 23740.1, 'top_0.05_amount_recall_by_p': 57678.1, 'top_0.1_amount_recall_by_p': 99135.20000000001}\n"
     ]
    },
    {
     "name": "stderr",
     "output_type": "stream",
     "text": [
      "D:\\codes\\www\\modeling\\cmltv_model.py:131: FutureWarning: You are using `torch.load` with `weights_only=False` (the current default value), which uses the default pickle module implicitly. It is possible to construct malicious pickle data which will execute arbitrary code during unpickling (See https://github.com/pytorch/pytorch/blob/main/SECURITY.md#untrusted-models for more details). In a future release, the default value for `weights_only` will be flipped to `True`. This limits the functions that could be executed during unpickling. Arbitrary objects will no longer be allowed to be loaded via this mode unless they are explicitly allowlisted by the user via `torch.serialization.add_safe_globals`. We recommend you start setting `weights_only=True` for any use case where you don't have full control of the loaded file. Please open an issue on GitHub for any issues related to this experimental feature.\n",
      "  self.load_state_dict(torch.load(path))\n"
     ]
    },
    {
     "data": {
      "text/plain": [
       "Predicting:   0%|          | 0/588 [00:00<?, ?it/s]"
      ],
      "application/vnd.jupyter.widget-view+json": {
       "version_major": 2,
       "version_minor": 0,
       "model_id": "400df472cc6d4093999560ea37a538c6"
      }
     },
     "metadata": {},
     "output_type": "display_data"
    },
    {
     "name": "stderr",
     "output_type": "stream",
     "text": [
      "2024-10-09 10:47:46,092 - cmltv_model.py - INFO - base model info: {'hidden_dim': 172, 'params': {'Total': 388382, 'Trainable': 388382}, 'device': 'cuda:0'}\n"
     ]
    },
    {
     "name": "stdout",
     "output_type": "stream",
     "text": [
      "{'auc': 0.8635503365984151, 'gini_by_pltv': 0.7094025655792938, 'gini_by_p': 0.7007946690781583, 'rmse': 19.869177590516276, 'nrmse': 0.002513812954265723, 'mae': 0.5928852371942354, 'nmae': 7.501078405797512e-05, 'top_0.01_p_by_pltv': 0.09728920671877599, 'top_0.01_r_by_pltv': 0.1387900355871886, 'top_0.03_p_by_pltv': 0.06142247352957481, 'top_0.03_r_by_pltv': 0.262870699881376, 'top_0.05_p_by_pltv': 0.04836027406372647, 'top_0.05_r_by_pltv': 0.3449584816132859, 'top_0.1_p_by_pltv': 0.03492316902813809, 'top_0.1_r_by_pltv': 0.498220640569395, 'top_0.01_p_by_p': 0.12306668884084483, 'top_0.01_r_by_p': 0.17556346381969157, 'top_0.03_p_by_p': 0.08032596041909197, 'top_0.03_r_by_p': 0.3437722419928826, 'top_0.05_p_by_p': 0.06056675314308521, 'top_0.05_r_by_p': 0.43202846975088965, 'top_0.1_p_by_p': 0.040028603738442095, 'top_0.1_r_by_p': 0.571055753262159, 'top_amount_recall_by_pltv': {}, 'top_0.01_amount_recall_by_pltv': 35578.1, 'top_0.05_amount_recall_by_pltv': 68161.1, 'top_0.1_amount_recall_by_pltv': 99842.1, 'top_amount_recall_by_p': {}, 'top_0.01_amount_recall_by_p': 27674.1, 'top_0.05_amount_recall_by_p': 58847.1, 'top_0.1_amount_recall_by_p': 102798.20000000001}\n"
     ]
    },
    {
     "name": "stderr",
     "output_type": "stream",
     "text": [
      "D:\\codes\\www\\modeling\\cmltv_model.py:131: FutureWarning: You are using `torch.load` with `weights_only=False` (the current default value), which uses the default pickle module implicitly. It is possible to construct malicious pickle data which will execute arbitrary code during unpickling (See https://github.com/pytorch/pytorch/blob/main/SECURITY.md#untrusted-models for more details). In a future release, the default value for `weights_only` will be flipped to `True`. This limits the functions that could be executed during unpickling. Arbitrary objects will no longer be allowed to be loaded via this mode unless they are explicitly allowlisted by the user via `torch.serialization.add_safe_globals`. We recommend you start setting `weights_only=True` for any use case where you don't have full control of the loaded file. Please open an issue on GitHub for any issues related to this experimental feature.\n",
      "  self.load_state_dict(torch.load(path))\n"
     ]
    },
    {
     "data": {
      "text/plain": [
       "Predicting:   0%|          | 0/588 [00:00<?, ?it/s]"
      ],
      "application/vnd.jupyter.widget-view+json": {
       "version_major": 2,
       "version_minor": 0,
       "model_id": "bb225c90fe2347a08969b8ce36f0af3a"
      }
     },
     "metadata": {},
     "output_type": "display_data"
    },
    {
     "name": "stderr",
     "output_type": "stream",
     "text": [
      "2024-10-09 10:52:31,414 - cmltv_model.py - INFO - base model info: {'hidden_dim': 172, 'params': {'Total': 388382, 'Trainable': 388382}, 'device': 'cuda:0'}\n"
     ]
    },
    {
     "name": "stdout",
     "output_type": "stream",
     "text": [
      "{'auc': 0.8687184677165125, 'gini_by_pltv': 0.7156904873486573, 'gini_by_p': 0.7065489069901784, 'rmse': 19.82277203418293, 'nrmse': 0.0025079418059441964, 'mae': 0.3853687317813573, 'nmae': 4.8756165458167673e-05, 'top_0.01_p_by_pltv': 0.11308830866456011, 'top_0.01_r_by_pltv': 0.16132858837485173, 'top_0.03_p_by_pltv': 0.07189977271467377, 'top_0.03_r_by_pltv': 0.3077105575326216, 'top_0.05_p_by_pltv': 0.05610989157187521, 'top_0.05_r_by_pltv': 0.40023724792408066, 'top_0.1_p_by_pltv': 0.03789995343577463, 'top_0.1_r_by_pltv': 0.5406880189798339, 'top_0.01_p_by_p': 0.1295526359554299, 'top_0.01_r_by_p': 0.1848161328588375, 'top_0.03_p_by_p': 0.08254337823604413, 'top_0.03_r_by_p': 0.35326215895610913, 'top_0.05_p_by_p': 0.06212998070910663, 'top_0.05_r_by_p': 0.4431791221826809, 'top_0.1_p_by_p': 0.0408102175214528, 'top_0.1_r_by_p': 0.5822064056939502, 'top_amount_recall_by_pltv': {}, 'top_0.01_amount_recall_by_pltv': 38448.1, 'top_0.05_amount_recall_by_pltv': 72801.1, 'top_0.1_amount_recall_by_pltv': 96751.1, 'top_amount_recall_by_p': {}, 'top_0.01_amount_recall_by_p': 31389.1, 'top_0.05_amount_recall_by_p': 60082.1, 'top_0.1_amount_recall_by_p': 98851.20000000001}\n"
     ]
    },
    {
     "name": "stderr",
     "output_type": "stream",
     "text": [
      "D:\\codes\\www\\modeling\\cmltv_model.py:131: FutureWarning: You are using `torch.load` with `weights_only=False` (the current default value), which uses the default pickle module implicitly. It is possible to construct malicious pickle data which will execute arbitrary code during unpickling (See https://github.com/pytorch/pytorch/blob/main/SECURITY.md#untrusted-models for more details). In a future release, the default value for `weights_only` will be flipped to `True`. This limits the functions that could be executed during unpickling. Arbitrary objects will no longer be allowed to be loaded via this mode unless they are explicitly allowlisted by the user via `torch.serialization.add_safe_globals`. We recommend you start setting `weights_only=True` for any use case where you don't have full control of the loaded file. Please open an issue on GitHub for any issues related to this experimental feature.\n",
      "  self.load_state_dict(torch.load(path))\n"
     ]
    },
    {
     "data": {
      "text/plain": [
       "Predicting:   0%|          | 0/588 [00:00<?, ?it/s]"
      ],
      "application/vnd.jupyter.widget-view+json": {
       "version_major": 2,
       "version_minor": 0,
       "model_id": "276e52fdda0d4efc946ff902d7139fbf"
      }
     },
     "metadata": {},
     "output_type": "display_data"
    },
    {
     "name": "stderr",
     "output_type": "stream",
     "text": [
      "2024-10-09 10:57:01,320 - cmltv_model.py - INFO - base model info: {'hidden_dim': 172, 'params': {'Total': 388382, 'Trainable': 388382}, 'device': 'cuda:0'}\n"
     ]
    },
    {
     "name": "stdout",
     "output_type": "stream",
     "text": [
      "{'auc': 0.8697167779077841, 'gini_by_pltv': 0.72271854688995, 'gini_by_p': 0.7180806402608652, 'rmse': 19.825767999856104, 'nrmse': 0.002508320850184224, 'mae': 0.4264260200531726, 'nmae': 5.395066043182852e-05, 'top_0.01_p_by_pltv': 0.10909695659404624, 'top_0.01_r_by_pltv': 0.15563463819691578, 'top_0.03_p_by_pltv': 0.0682410333167027, 'top_0.03_r_by_pltv': 0.2920521945432977, 'top_0.05_p_by_pltv': 0.05288365595689483, 'top_0.05_r_by_pltv': 0.37722419928825623, 'top_0.1_p_by_pltv': 0.03686888844542008, 'top_0.1_r_by_pltv': 0.5259786476868328, 'top_0.01_p_by_p': 0.13154831199068684, 'top_0.01_r_by_p': 0.18766310794780547, 'top_0.03_p_by_p': 0.08392926437163922, 'top_0.03_r_by_p': 0.3591933570581257, 'top_0.05_p_by_p': 0.06299474489456529, 'top_0.05_r_by_p': 0.4493475682087782, 'top_0.1_p_by_p': 0.04094325816536952, 'top_0.1_r_by_p': 0.5841043890865955, 'top_amount_recall_by_pltv': {}, 'top_0.01_amount_recall_by_pltv': 37691.1, 'top_0.05_amount_recall_by_pltv': 76282.1, 'top_0.1_amount_recall_by_pltv': 102798.1, 'top_amount_recall_by_p': {}, 'top_0.01_amount_recall_by_p': 31689.1, 'top_0.05_amount_recall_by_p': 65020.1, 'top_0.1_amount_recall_by_p': 106108.20000000001}\n"
     ]
    },
    {
     "name": "stderr",
     "output_type": "stream",
     "text": [
      "D:\\codes\\www\\modeling\\cmltv_model.py:131: FutureWarning: You are using `torch.load` with `weights_only=False` (the current default value), which uses the default pickle module implicitly. It is possible to construct malicious pickle data which will execute arbitrary code during unpickling (See https://github.com/pytorch/pytorch/blob/main/SECURITY.md#untrusted-models for more details). In a future release, the default value for `weights_only` will be flipped to `True`. This limits the functions that could be executed during unpickling. Arbitrary objects will no longer be allowed to be loaded via this mode unless they are explicitly allowlisted by the user via `torch.serialization.add_safe_globals`. We recommend you start setting `weights_only=True` for any use case where you don't have full control of the loaded file. Please open an issue on GitHub for any issues related to this experimental feature.\n",
      "  self.load_state_dict(torch.load(path))\n"
     ]
    },
    {
     "data": {
      "text/plain": [
       "Predicting:   0%|          | 0/588 [00:00<?, ?it/s]"
      ],
      "application/vnd.jupyter.widget-view+json": {
       "version_major": 2,
       "version_minor": 0,
       "model_id": "482be285205149e99d0094725408ded0"
      }
     },
     "metadata": {},
     "output_type": "display_data"
    },
    {
     "name": "stderr",
     "output_type": "stream",
     "text": [
      "2024-10-09 11:00:24,332 - cmltv_model.py - INFO - base model info: {'hidden_dim': 172, 'params': {'Total': 388382, 'Trainable': 388382}, 'device': 'cuda:0'}\n"
     ]
    },
    {
     "name": "stdout",
     "output_type": "stream",
     "text": [
      "{'auc': 0.8702492883628109, 'gini_by_pltv': 0.7274532038384589, 'gini_by_p': 0.7150051626434007, 'rmse': 19.818132392356066, 'nrmse': 0.0025073548067252108, 'mae': 0.3752443322285021, 'nmae': 4.747524446210806e-05, 'top_0.01_p_by_pltv': 0.11475137202727424, 'top_0.01_r_by_pltv': 0.16370106761565836, 'top_0.03_p_by_pltv': 0.07256499805975941, 'top_0.03_r_by_pltv': 0.3105575326215896, 'top_0.05_p_by_pltv': 0.05561098915718752, 'top_0.05_r_by_pltv': 0.3966785290628707, 'top_0.1_p_by_pltv': 0.03833233552850396, 'top_0.1_r_by_pltv': 0.5468564650059312, 'top_0.01_p_by_p': 0.1310493929818726, 'top_0.01_r_by_p': 0.18695136417556346, 'top_0.03_p_by_p': 0.0835412162536726, 'top_0.03_r_by_p': 0.3575326215895611, 'top_0.05_p_by_p': 0.06226302135302335, 'top_0.05_r_by_p': 0.4441281138790036, 'top_0.1_p_by_p': 0.04120933945320295, 'top_0.1_r_by_p': 0.5879003558718862, 'top_amount_recall_by_pltv': {}, 'top_0.01_amount_recall_by_pltv': 37434.1, 'top_0.05_amount_recall_by_pltv': 73867.1, 'top_0.1_amount_recall_by_pltv': 116386.1, 'top_amount_recall_by_p': {}, 'top_0.01_amount_recall_by_p': 31210.1, 'top_0.05_amount_recall_by_p': 64803.1, 'top_0.1_amount_recall_by_p': 108356.20000000001}\n"
     ]
    },
    {
     "name": "stderr",
     "output_type": "stream",
     "text": [
      "D:\\codes\\www\\modeling\\cmltv_model.py:131: FutureWarning: You are using `torch.load` with `weights_only=False` (the current default value), which uses the default pickle module implicitly. It is possible to construct malicious pickle data which will execute arbitrary code during unpickling (See https://github.com/pytorch/pytorch/blob/main/SECURITY.md#untrusted-models for more details). In a future release, the default value for `weights_only` will be flipped to `True`. This limits the functions that could be executed during unpickling. Arbitrary objects will no longer be allowed to be loaded via this mode unless they are explicitly allowlisted by the user via `torch.serialization.add_safe_globals`. We recommend you start setting `weights_only=True` for any use case where you don't have full control of the loaded file. Please open an issue on GitHub for any issues related to this experimental feature.\n",
      "  self.load_state_dict(torch.load(path))\n"
     ]
    },
    {
     "data": {
      "text/plain": [
       "Predicting:   0%|          | 0/588 [00:00<?, ?it/s]"
      ],
      "application/vnd.jupyter.widget-view+json": {
       "version_major": 2,
       "version_minor": 0,
       "model_id": "2dbcc22a5a63491a8045ae5c2609d7ed"
      }
     },
     "metadata": {},
     "output_type": "display_data"
    },
    {
     "name": "stderr",
     "output_type": "stream",
     "text": [
      "2024-10-09 11:03:49,706 - cmltv_model.py - INFO - base model info: {'hidden_dim': 172, 'params': {'Total': 388382, 'Trainable': 388382}, 'device': 'cuda:0'}\n"
     ]
    },
    {
     "name": "stdout",
     "output_type": "stream",
     "text": [
      "{'auc': 0.8694889941299945, 'gini_by_pltv': 0.7245611298435359, 'gini_by_p': 0.7137168661618465, 'rmse': 19.829719015790758, 'nrmse': 0.002508820725682029, 'mae': 0.3644637033758871, 'nmae': 4.61112985040343e-05, 'top_0.01_p_by_pltv': 0.11591551638117412, 'top_0.01_r_by_pltv': 0.16536180308422302, 'top_0.03_p_by_pltv': 0.07345196518654028, 'top_0.03_r_by_pltv': 0.3143534994068802, 'top_0.05_p_by_pltv': 0.05584381028404178, 'top_0.05_r_by_pltv': 0.39833926453143537, 'top_0.1_p_by_pltv': 0.037916583516264216, 'top_0.1_r_by_pltv': 0.5409252669039146, 'top_0.01_p_by_p': 0.1308830866456012, 'top_0.01_r_by_p': 0.1867141162514828, 'top_0.03_p_by_p': 0.0835966516990964, 'top_0.03_r_by_p': 0.35776986951364176, 'top_0.05_p_by_p': 0.06262888312379432, 'top_0.05_r_by_p': 0.44673784104389086, 'top_0.1_p_by_p': 0.040776957360473626, 'top_0.1_r_by_p': 0.5817319098457888, 'top_amount_recall_by_pltv': {}, 'top_0.01_amount_recall_by_pltv': 38656.1, 'top_0.05_amount_recall_by_pltv': 78500.1, 'top_0.1_amount_recall_by_pltv': 113513.1, 'top_amount_recall_by_p': {}, 'top_0.01_amount_recall_by_p': 32056.1, 'top_0.05_amount_recall_by_p': 68822.1, 'top_0.1_amount_recall_by_p': 104294.20000000001}\n"
     ]
    },
    {
     "name": "stderr",
     "output_type": "stream",
     "text": [
      "D:\\codes\\www\\modeling\\cmltv_model.py:131: FutureWarning: You are using `torch.load` with `weights_only=False` (the current default value), which uses the default pickle module implicitly. It is possible to construct malicious pickle data which will execute arbitrary code during unpickling (See https://github.com/pytorch/pytorch/blob/main/SECURITY.md#untrusted-models for more details). In a future release, the default value for `weights_only` will be flipped to `True`. This limits the functions that could be executed during unpickling. Arbitrary objects will no longer be allowed to be loaded via this mode unless they are explicitly allowlisted by the user via `torch.serialization.add_safe_globals`. We recommend you start setting `weights_only=True` for any use case where you don't have full control of the loaded file. Please open an issue on GitHub for any issues related to this experimental feature.\n",
      "  self.load_state_dict(torch.load(path))\n"
     ]
    },
    {
     "data": {
      "text/plain": [
       "Predicting:   0%|          | 0/588 [00:00<?, ?it/s]"
      ],
      "application/vnd.jupyter.widget-view+json": {
       "version_major": 2,
       "version_minor": 0,
       "model_id": "0367d4e6b7904af087f5e56ede70b922"
      }
     },
     "metadata": {},
     "output_type": "display_data"
    },
    {
     "name": "stderr",
     "output_type": "stream",
     "text": [
      "2024-10-09 11:07:18,792 - cmltv_model.py - INFO - base model info: {'hidden_dim': 172, 'params': {'Total': 388382, 'Trainable': 388382}, 'device': 'cuda:0'}\n"
     ]
    },
    {
     "name": "stdout",
     "output_type": "stream",
     "text": [
      "{'auc': 0.8696380384913042, 'gini_by_pltv': 0.7160638474148023, 'gini_by_p': 0.7131695803967524, 'rmse': 19.84083237446931, 'nrmse': 0.0025102267680249635, 'mae': 0.38293731397726105, 'nmae': 4.8448546808864e-05, 'top_0.01_p_by_pltv': 0.11508398469981707, 'top_0.01_r_by_pltv': 0.1641755634638197, 'top_0.03_p_by_pltv': 0.07633460834857808, 'top_0.03_r_by_pltv': 0.32669039145907475, 'top_0.05_p_by_pltv': 0.057806159781813346, 'top_0.05_r_by_pltv': 0.41233689205219454, 'top_0.1_p_by_pltv': 0.0387480875407437, 'top_0.1_r_by_pltv': 0.5527876631079478, 'top_0.01_p_by_p': 0.12922002328288706, 'top_0.01_r_by_p': 0.18434163701067616, 'top_0.03_p_by_p': 0.08309773269028217, 'top_0.03_r_by_p': 0.35563463819691576, 'top_0.05_p_by_p': 0.06259562296281514, 'top_0.05_r_by_p': 0.4465005931198102, 'top_0.1_p_by_p': 0.04072706711900485, 'top_0.1_r_by_p': 0.5810201660735469, 'top_amount_recall_by_pltv': {}, 'top_0.01_amount_recall_by_pltv': 39277.1, 'top_0.05_amount_recall_by_pltv': 76106.1, 'top_0.1_amount_recall_by_pltv': 109790.1, 'top_amount_recall_by_p': {}, 'top_0.01_amount_recall_by_p': 32775.1, 'top_0.05_amount_recall_by_p': 65379.1, 'top_0.1_amount_recall_by_p': 104141.20000000001}\n"
     ]
    },
    {
     "name": "stderr",
     "output_type": "stream",
     "text": [
      "D:\\codes\\www\\modeling\\cmltv_model.py:131: FutureWarning: You are using `torch.load` with `weights_only=False` (the current default value), which uses the default pickle module implicitly. It is possible to construct malicious pickle data which will execute arbitrary code during unpickling (See https://github.com/pytorch/pytorch/blob/main/SECURITY.md#untrusted-models for more details). In a future release, the default value for `weights_only` will be flipped to `True`. This limits the functions that could be executed during unpickling. Arbitrary objects will no longer be allowed to be loaded via this mode unless they are explicitly allowlisted by the user via `torch.serialization.add_safe_globals`. We recommend you start setting `weights_only=True` for any use case where you don't have full control of the loaded file. Please open an issue on GitHub for any issues related to this experimental feature.\n",
      "  self.load_state_dict(torch.load(path))\n"
     ]
    },
    {
     "data": {
      "text/plain": [
       "Predicting:   0%|          | 0/588 [00:00<?, ?it/s]"
      ],
      "application/vnd.jupyter.widget-view+json": {
       "version_major": 2,
       "version_minor": 0,
       "model_id": "64df8d8c7f8a4c72bdb185e245acfdd5"
      }
     },
     "metadata": {},
     "output_type": "display_data"
    },
    {
     "name": "stderr",
     "output_type": "stream",
     "text": [
      "2024-10-09 11:10:43,024 - cmltv_model.py - INFO - base model info: {'hidden_dim': 172, 'params': {'Total': 388382, 'Trainable': 388382}, 'device': 'cuda:0'}\n"
     ]
    },
    {
     "name": "stdout",
     "output_type": "stream",
     "text": [
      "{'auc': 0.8696240799731426, 'gini_by_pltv': 0.7219729770607461, 'gini_by_p': 0.7168050394532128, 'rmse': 19.86217462019946, 'nrmse': 0.0025129269509361666, 'mae': 0.42014409984746737, 'nmae': 5.315588307786784e-05, 'top_0.01_p_by_pltv': 0.108598037585232, 'top_0.01_r_by_pltv': 0.15492289442467377, 'top_0.03_p_by_pltv': 0.06873995232551694, 'top_0.03_r_by_pltv': 0.2941874258600237, 'top_0.05_p_by_pltv': 0.05331603804962416, 'top_0.05_r_by_pltv': 0.38030842230130485, 'top_0.1_p_by_pltv': 0.03725138029668064, 'top_0.1_r_by_pltv': 0.531435349940688, 'top_0.01_p_by_p': 0.13055047397305838, 'top_0.01_r_by_p': 0.18623962040332148, 'top_0.03_p_by_p': 0.0835412162536726, 'top_0.03_r_by_p': 0.3575326215895611, 'top_0.05_p_by_p': 0.06382624891904477, 'top_0.05_r_by_p': 0.4552787663107948, 'top_0.1_p_by_p': 0.04119270937271336, 'top_0.1_r_by_p': 0.5876631079478054, 'top_amount_recall_by_pltv': {}, 'top_0.01_amount_recall_by_pltv': 39651.1, 'top_0.05_amount_recall_by_pltv': 74468.1, 'top_0.1_amount_recall_by_pltv': 112365.1, 'top_amount_recall_by_p': {}, 'top_0.01_amount_recall_by_p': 30182.1, 'top_0.05_amount_recall_by_p': 77551.1, 'top_0.1_amount_recall_by_p': 103747.1}\n"
     ]
    },
    {
     "name": "stderr",
     "output_type": "stream",
     "text": [
      "D:\\codes\\www\\modeling\\cmltv_model.py:131: FutureWarning: You are using `torch.load` with `weights_only=False` (the current default value), which uses the default pickle module implicitly. It is possible to construct malicious pickle data which will execute arbitrary code during unpickling (See https://github.com/pytorch/pytorch/blob/main/SECURITY.md#untrusted-models for more details). In a future release, the default value for `weights_only` will be flipped to `True`. This limits the functions that could be executed during unpickling. Arbitrary objects will no longer be allowed to be loaded via this mode unless they are explicitly allowlisted by the user via `torch.serialization.add_safe_globals`. We recommend you start setting `weights_only=True` for any use case where you don't have full control of the loaded file. Please open an issue on GitHub for any issues related to this experimental feature.\n",
      "  self.load_state_dict(torch.load(path))\n"
     ]
    },
    {
     "data": {
      "text/plain": [
       "Predicting:   0%|          | 0/588 [00:00<?, ?it/s]"
      ],
      "application/vnd.jupyter.widget-view+json": {
       "version_major": 2,
       "version_minor": 0,
       "model_id": "f792eb90d8e24fc1bb788c061dac2206"
      }
     },
     "metadata": {},
     "output_type": "display_data"
    },
    {
     "name": "stderr",
     "output_type": "stream",
     "text": [
      "2024-10-09 11:14:52,007 - cmltv_model.py - INFO - base model info: {'hidden_dim': 172, 'params': {'Total': 388382, 'Trainable': 388382}, 'device': 'cuda:0'}\n"
     ]
    },
    {
     "name": "stdout",
     "output_type": "stream",
     "text": [
      "{'auc': 0.8690975945948116, 'gini_by_pltv': 0.7233292631707144, 'gini_by_p': 0.7126866321474445, 'rmse': 20.09502576498983, 'nrmse': 0.002542386862979483, 'mae': 0.44413335136868165, 'nmae': 5.619096044644251e-05, 'top_0.01_p_by_pltv': 0.11159155163811742, 'top_0.01_r_by_pltv': 0.15919335705812573, 'top_0.03_p_by_pltv': 0.07029214479738345, 'top_0.03_r_by_pltv': 0.30083036773428234, 'top_0.05_p_by_pltv': 0.053981241269207746, 'top_0.05_r_by_pltv': 0.3850533807829182, 'top_0.1_p_by_pltv': 0.037184859974722276, 'top_0.1_r_by_pltv': 0.5304863582443654, 'top_0.01_p_by_p': 0.12888741061034426, 'top_0.01_r_by_p': 0.18386714116251482, 'top_0.03_p_by_p': 0.0835412162536726, 'top_0.03_r_by_p': 0.3575326215895611, 'top_0.05_p_by_p': 0.06326082618239873, 'top_0.05_r_by_p': 0.4512455516014235, 'top_0.1_p_by_p': 0.0409765183263487, 'top_0.1_r_by_p': 0.5845788849347568, 'top_amount_recall_by_pltv': {}, 'top_0.01_amount_recall_by_pltv': 37809.1, 'top_0.05_amount_recall_by_pltv': 74548.1, 'top_0.1_amount_recall_by_pltv': 111878.1, 'top_amount_recall_by_p': {}, 'top_0.01_amount_recall_by_p': 30917.1, 'top_0.05_amount_recall_by_p': 65597.1, 'top_0.1_amount_recall_by_p': 104610.20000000001}\n"
     ]
    },
    {
     "name": "stderr",
     "output_type": "stream",
     "text": [
      "D:\\codes\\www\\modeling\\cmltv_model.py:131: FutureWarning: You are using `torch.load` with `weights_only=False` (the current default value), which uses the default pickle module implicitly. It is possible to construct malicious pickle data which will execute arbitrary code during unpickling (See https://github.com/pytorch/pytorch/blob/main/SECURITY.md#untrusted-models for more details). In a future release, the default value for `weights_only` will be flipped to `True`. This limits the functions that could be executed during unpickling. Arbitrary objects will no longer be allowed to be loaded via this mode unless they are explicitly allowlisted by the user via `torch.serialization.add_safe_globals`. We recommend you start setting `weights_only=True` for any use case where you don't have full control of the loaded file. Please open an issue on GitHub for any issues related to this experimental feature.\n",
      "  self.load_state_dict(torch.load(path))\n"
     ]
    },
    {
     "data": {
      "text/plain": [
       "Predicting:   0%|          | 0/588 [00:00<?, ?it/s]"
      ],
      "application/vnd.jupyter.widget-view+json": {
       "version_major": 2,
       "version_minor": 0,
       "model_id": "ee4c0036144b4775b06374e6839343a4"
      }
     },
     "metadata": {},
     "output_type": "display_data"
    },
    {
     "name": "stdout",
     "output_type": "stream",
     "text": [
      "{'auc': 0.8687929473831073, 'gini_by_pltv': 0.712168877867404, 'gini_by_p': 0.7055789090978734, 'rmse': 20.013032207626882, 'nrmse': 0.00253201318416332, 'mae': 0.4205808316175937, 'nmae': 5.32111376034405e-05, 'top_0.01_p_by_pltv': 0.10560452353234659, 'top_0.01_r_by_pltv': 0.1506524317912218, 'top_0.03_p_by_pltv': 0.06724319529907423, 'top_0.03_r_by_pltv': 0.2877817319098458, 'top_0.05_p_by_pltv': 0.05251779418612386, 'top_0.05_r_by_pltv': 0.3746144721233689, 'top_0.1_p_by_pltv': 0.03668595756003459, 'top_0.1_r_by_pltv': 0.5233689205219454, 'top_0.01_p_by_p': 0.12855479793780142, 'top_0.01_r_by_p': 0.1833926453143535, 'top_0.03_p_by_p': 0.08304229724485836, 'top_0.03_r_by_p': 0.3553973902728351, 'top_0.05_p_by_p': 0.06226302135302335, 'top_0.05_r_by_p': 0.4441281138790036, 'top_0.1_p_by_p': 0.04071043703851527, 'top_0.1_r_by_p': 0.5807829181494661, 'top_amount_recall_by_pltv': {}, 'top_0.01_amount_recall_by_pltv': 39783.1, 'top_0.05_amount_recall_by_pltv': 73876.1, 'top_0.1_amount_recall_by_pltv': 106765.1, 'top_amount_recall_by_p': {}, 'top_0.01_amount_recall_by_p': 30264.1, 'top_0.05_amount_recall_by_p': 72623.1, 'top_0.1_amount_recall_by_p': 106980.20000000001}\n"
     ]
    }
   ],
   "execution_count": 5
  },
  {
   "metadata": {},
   "cell_type": "code",
   "outputs": [],
   "execution_count": null,
   "source": "",
   "id": "b90a0f27d78c9237"
  }
 ],
 "metadata": {
  "kernelspec": {
   "display_name": "Python 3",
   "language": "python",
   "name": "python3"
  },
  "language_info": {
   "codemirror_mode": {
    "name": "ipython",
    "version": 2
   },
   "file_extension": ".py",
   "mimetype": "text/x-python",
   "name": "python",
   "nbconvert_exporter": "python",
   "pygments_lexer": "ipython2",
   "version": "2.7.6"
  }
 },
 "nbformat": 4,
 "nbformat_minor": 5
}
