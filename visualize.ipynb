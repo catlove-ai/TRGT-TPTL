{
 "cells": [
  {
   "cell_type": "code",
   "id": "initial_id",
   "metadata": {
    "collapsed": true,
    "ExecuteTime": {
     "end_time": "2024-10-12T09:39:34.187231Z",
     "start_time": "2024-10-12T09:39:20.068327Z"
    }
   },
   "source": [
    "import pandas as pd\n",
    "import torch\n",
    "\n",
    "from config.features import ACTIVE_FEATURES\n",
    "from modeling.trtg_model import TRTGModel\n",
    "\n",
    "model = TRTGModel(features=ACTIVE_FEATURES, trgt_layers=1, aux_loss_weight=0.5, wise='feature', device='cuda:0')\n",
    "model.load_weights(r'D:\\codes\\www\\checkpoints\\xiaorong\\wm\\wm_trgt_1_layer_auxloss0.5_active_th_seed_42\\5.pth', strict=True)"
   ],
   "outputs": [
    {
     "name": "stderr",
     "output_type": "stream",
     "text": [
      "2024-10-12 17:39:34,147 - trtg_model.py - INFO - base model info: {'hidden_dim': 172, 'params': {'Total': 422936, 'Trainable': 422936}, 'device': 'cuda:0'}\n",
      "D:\\codes\\www\\modeling\\trtg_model.py:220: FutureWarning: You are using `torch.load` with `weights_only=False` (the current default value), which uses the default pickle module implicitly. It is possible to construct malicious pickle data which will execute arbitrary code during unpickling (See https://github.com/pytorch/pytorch/blob/main/SECURITY.md#untrusted-models for more details). In a future release, the default value for `weights_only` will be flipped to `True`. This limits the functions that could be executed during unpickling. Arbitrary objects will no longer be allowed to be loaded via this mode unless they are explicitly allowlisted by the user via `torch.serialization.add_safe_globals`. We recommend you start setting `weights_only=True` for any use case where you don't have full control of the loaded file. Please open an issue on GitHub for any issues related to this experimental feature.\n",
      "  self.load_state_dict(torch.load(path), strict=strict)\n"
     ]
    }
   ],
   "execution_count": 1
  },
  {
   "metadata": {
    "ExecuteTime": {
     "end_time": "2024-10-14T13:19:55.691114Z",
     "start_time": "2024-10-14T13:19:41.556528Z"
    }
   },
   "cell_type": "code",
   "source": [
    "from modeling.base_model import BaseModel\n",
    "import pandas as pd\n",
    "import torch\n",
    "\n",
    "from config.features import ACTIVE_FEATURES\n",
    "from modeling.trtg_model import TRTGModel\n",
    "\n",
    "model = BaseModel(features=ACTIVE_FEATURES, device='cuda:0', cross_net='DNN')\n",
    "model.load_weights(r'D:\\codes\\www\\checkpoints\\wxsh\\wxsh_DNN_active_th_seed_42\\3.pth', strict=True)"
   ],
   "id": "fc96850b4ff9e942",
   "outputs": [
    {
     "name": "stderr",
     "output_type": "stream",
     "text": [
      "2024-10-14 21:19:55,660 - base_model.py - INFO - base model info: {'hidden_dim': 172, 'params': {'Total': 388209, 'Trainable': 388209}, 'device': 'cuda:0'}\n",
      "D:\\codes\\www\\modeling\\base_model.py:129: FutureWarning: You are using `torch.load` with `weights_only=False` (the current default value), which uses the default pickle module implicitly. It is possible to construct malicious pickle data which will execute arbitrary code during unpickling (See https://github.com/pytorch/pytorch/blob/main/SECURITY.md#untrusted-models for more details). In a future release, the default value for `weights_only` will be flipped to `True`. This limits the functions that could be executed during unpickling. Arbitrary objects will no longer be allowed to be loaded via this mode unless they are explicitly allowlisted by the user via `torch.serialization.add_safe_globals`. We recommend you start setting `weights_only=True` for any use case where you don't have full control of the loaded file. Please open an issue on GitHub for any issues related to this experimental feature.\n",
      "  self.load_state_dict(torch.load(path), strict=strict)\n"
     ]
    }
   ],
   "execution_count": 1
  },
  {
   "metadata": {
    "ExecuteTime": {
     "end_time": "2024-10-14T13:21:52.864989Z",
     "start_time": "2024-10-14T13:21:50.824742Z"
    }
   },
   "cell_type": "code",
   "source": [
    "from torch.utils.data import DataLoader\n",
    "from utils.datasets import MultiLabelDataset, multi_label_collate\n",
    "\n",
    "val_dataset = MultiLabelDataset('wxsh', 826, 829, features=ACTIVE_FEATURES, max_rows=None, minus_label_col=None)\n",
    "val_loader = DataLoader(val_dataset, batch_size=1024, shuffle=True, collate_fn=multi_label_collate)"
   ],
   "id": "226c5ae4920ee3ce",
   "outputs": [
    {
     "name": "stderr",
     "output_type": "stream",
     "text": [
      "D:\\codes\\www\\utils\\common.py:33: DtypeWarning: Columns (3) have mixed types. Specify dtype option on import or set low_memory=False.\n",
      "  new_df = pd.read_csv(csv_file, usecols=columns, sep=sep)\n",
      "2024-10-14 21:21:51,012 - common.py - INFO - Read dataframe from csv D:/codes/www\\processed_data\\wxsh/wxsh_6h_826.csv | sample number: 20826\n",
      "2024-10-14 21:21:51,184 - common.py - INFO - Read dataframe from csv D:/codes/www\\processed_data\\wxsh/wxsh_6h_827.csv | sample number: 18341\n",
      "2024-10-14 21:21:51,341 - common.py - INFO - Read dataframe from csv D:/codes/www\\processed_data\\wxsh/wxsh_6h_828.csv | sample number: 20107\n",
      "2024-10-14 21:21:51,521 - common.py - INFO - Read dataframe from csv D:/codes/www\\processed_data\\wxsh/wxsh_6h_829.csv | sample number: 18743\n",
      "2024-10-14 21:21:51,553 - common.py - INFO - sample num: 78017\n"
     ]
    }
   ],
   "execution_count": 2
  },
  {
   "metadata": {
    "ExecuteTime": {
     "end_time": "2024-10-14T13:21:53.640427Z",
     "start_time": "2024-10-14T13:21:52.864989Z"
    }
   },
   "cell_type": "code",
   "source": [
    "from tqdm.auto import tqdm\n",
    "gate_outputs = []\n",
    "cls_labels = []\n",
    "trgt_outputs = []\n",
    "true_label = []\n",
    "p = []\n",
    "v = []\n",
    "model.eval()\n",
    "for batch in tqdm(val_loader):\n",
    "    true_label += batch[2]['ltv3'].tolist()\n",
    "    o = model(batch)\n",
    "    go = o['gat_outputs'][0].detach().cpu().numpy()\n",
    "    gate_outputs.append(go)\n",
    "    cls_labels += o['cls_labels'].detach().cpu().tolist()\n",
    "    trgt_outputs.append(o['trgt_output'].detach().cpu().numpy())\n",
    "    p += o['prediction_p'].detach().cpu().tolist()\n",
    "    v += o['prediction_v'].detach().cpu().tolist()"
   ],
   "id": "e894a9eb217c49c2",
   "outputs": [
    {
     "data": {
      "text/plain": [
       "  0%|          | 0/77 [00:00<?, ?it/s]"
      ],
      "application/vnd.jupyter.widget-view+json": {
       "version_major": 2,
       "version_minor": 0,
       "model_id": "b85afad9b4ba4fa2a82c6c03aad881c0"
      }
     },
     "metadata": {},
     "output_type": "display_data"
    },
    {
     "ename": "IndexError",
     "evalue": "too many indices for tensor of dimension 1",
     "output_type": "error",
     "traceback": [
      "\u001B[1;31m---------------------------------------------------------------------------\u001B[0m",
      "\u001B[1;31mIndexError\u001B[0m                                Traceback (most recent call last)",
      "Cell \u001B[1;32mIn[3], line 11\u001B[0m\n\u001B[0;32m      9\u001B[0m \u001B[38;5;28;01mfor\u001B[39;00m batch \u001B[38;5;129;01min\u001B[39;00m tqdm(val_loader):\n\u001B[0;32m     10\u001B[0m     true_label \u001B[38;5;241m+\u001B[39m\u001B[38;5;241m=\u001B[39m batch[\u001B[38;5;241m2\u001B[39m][\u001B[38;5;124m'\u001B[39m\u001B[38;5;124mltv3\u001B[39m\u001B[38;5;124m'\u001B[39m]\u001B[38;5;241m.\u001B[39mtolist()\n\u001B[1;32m---> 11\u001B[0m     o \u001B[38;5;241m=\u001B[39m \u001B[43mmodel\u001B[49m\u001B[43m(\u001B[49m\u001B[43mbatch\u001B[49m\u001B[43m)\u001B[49m\n\u001B[0;32m     12\u001B[0m     go \u001B[38;5;241m=\u001B[39m o[\u001B[38;5;124m'\u001B[39m\u001B[38;5;124mgat_outputs\u001B[39m\u001B[38;5;124m'\u001B[39m][\u001B[38;5;241m0\u001B[39m]\u001B[38;5;241m.\u001B[39mdetach()\u001B[38;5;241m.\u001B[39mcpu()\u001B[38;5;241m.\u001B[39mnumpy()\n\u001B[0;32m     13\u001B[0m     gate_outputs\u001B[38;5;241m.\u001B[39mappend(go)\n",
      "File \u001B[1;32mD:\\app\\miniconda3\\Lib\\site-packages\\torch\\nn\\modules\\module.py:1553\u001B[0m, in \u001B[0;36mModule._wrapped_call_impl\u001B[1;34m(self, *args, **kwargs)\u001B[0m\n\u001B[0;32m   1551\u001B[0m     \u001B[38;5;28;01mreturn\u001B[39;00m \u001B[38;5;28mself\u001B[39m\u001B[38;5;241m.\u001B[39m_compiled_call_impl(\u001B[38;5;241m*\u001B[39margs, \u001B[38;5;241m*\u001B[39m\u001B[38;5;241m*\u001B[39mkwargs)  \u001B[38;5;66;03m# type: ignore[misc]\u001B[39;00m\n\u001B[0;32m   1552\u001B[0m \u001B[38;5;28;01melse\u001B[39;00m:\n\u001B[1;32m-> 1553\u001B[0m     \u001B[38;5;28;01mreturn\u001B[39;00m \u001B[38;5;28;43mself\u001B[39;49m\u001B[38;5;241;43m.\u001B[39;49m\u001B[43m_call_impl\u001B[49m\u001B[43m(\u001B[49m\u001B[38;5;241;43m*\u001B[39;49m\u001B[43margs\u001B[49m\u001B[43m,\u001B[49m\u001B[43m \u001B[49m\u001B[38;5;241;43m*\u001B[39;49m\u001B[38;5;241;43m*\u001B[39;49m\u001B[43mkwargs\u001B[49m\u001B[43m)\u001B[49m\n",
      "File \u001B[1;32mD:\\app\\miniconda3\\Lib\\site-packages\\torch\\nn\\modules\\module.py:1562\u001B[0m, in \u001B[0;36mModule._call_impl\u001B[1;34m(self, *args, **kwargs)\u001B[0m\n\u001B[0;32m   1557\u001B[0m \u001B[38;5;66;03m# If we don't have any hooks, we want to skip the rest of the logic in\u001B[39;00m\n\u001B[0;32m   1558\u001B[0m \u001B[38;5;66;03m# this function, and just call forward.\u001B[39;00m\n\u001B[0;32m   1559\u001B[0m \u001B[38;5;28;01mif\u001B[39;00m \u001B[38;5;129;01mnot\u001B[39;00m (\u001B[38;5;28mself\u001B[39m\u001B[38;5;241m.\u001B[39m_backward_hooks \u001B[38;5;129;01mor\u001B[39;00m \u001B[38;5;28mself\u001B[39m\u001B[38;5;241m.\u001B[39m_backward_pre_hooks \u001B[38;5;129;01mor\u001B[39;00m \u001B[38;5;28mself\u001B[39m\u001B[38;5;241m.\u001B[39m_forward_hooks \u001B[38;5;129;01mor\u001B[39;00m \u001B[38;5;28mself\u001B[39m\u001B[38;5;241m.\u001B[39m_forward_pre_hooks\n\u001B[0;32m   1560\u001B[0m         \u001B[38;5;129;01mor\u001B[39;00m _global_backward_pre_hooks \u001B[38;5;129;01mor\u001B[39;00m _global_backward_hooks\n\u001B[0;32m   1561\u001B[0m         \u001B[38;5;129;01mor\u001B[39;00m _global_forward_hooks \u001B[38;5;129;01mor\u001B[39;00m _global_forward_pre_hooks):\n\u001B[1;32m-> 1562\u001B[0m     \u001B[38;5;28;01mreturn\u001B[39;00m \u001B[43mforward_call\u001B[49m\u001B[43m(\u001B[49m\u001B[38;5;241;43m*\u001B[39;49m\u001B[43margs\u001B[49m\u001B[43m,\u001B[49m\u001B[43m \u001B[49m\u001B[38;5;241;43m*\u001B[39;49m\u001B[38;5;241;43m*\u001B[39;49m\u001B[43mkwargs\u001B[49m\u001B[43m)\u001B[49m\n\u001B[0;32m   1564\u001B[0m \u001B[38;5;28;01mtry\u001B[39;00m:\n\u001B[0;32m   1565\u001B[0m     result \u001B[38;5;241m=\u001B[39m \u001B[38;5;28;01mNone\u001B[39;00m\n",
      "File \u001B[1;32mD:\\codes\\www\\modeling\\base_model.py:65\u001B[0m, in \u001B[0;36mBaseModel.forward\u001B[1;34m(self, batch)\u001B[0m\n\u001B[0;32m     63\u001B[0m loss \u001B[38;5;241m=\u001B[39m \u001B[38;5;28mself\u001B[39m\u001B[38;5;241m.\u001B[39m_ziln_loss(logits, labels)\n\u001B[0;32m     64\u001B[0m p, value \u001B[38;5;241m=\u001B[39m \u001B[38;5;28mself\u001B[39m\u001B[38;5;241m.\u001B[39m_ziln_predict(logits)\n\u001B[1;32m---> 65\u001B[0m ltv_delta \u001B[38;5;241m=\u001B[39m torch\u001B[38;5;241m.\u001B[39mstack([torch\u001B[38;5;241m.\u001B[39mzeros_like(\u001B[43mlabels\u001B[49m\u001B[43m[\u001B[49m\u001B[38;5;124;43m'\u001B[39;49m\u001B[38;5;124;43mltv_3h\u001B[39;49m\u001B[38;5;124;43m'\u001B[39;49m\u001B[43m]\u001B[49m, device\u001B[38;5;241m=\u001B[39mlabels[\u001B[38;5;124m'\u001B[39m\u001B[38;5;124mltv_3h\u001B[39m\u001B[38;5;124m'\u001B[39m]\u001B[38;5;241m.\u001B[39mdevice), labels[\u001B[38;5;124m'\u001B[39m\u001B[38;5;124mltv_3h\u001B[39m\u001B[38;5;124m'\u001B[39m],\n\u001B[0;32m     66\u001B[0m                          labels[\u001B[38;5;124m'\u001B[39m\u001B[38;5;124mltv_6h\u001B[39m\u001B[38;5;124m'\u001B[39m] \u001B[38;5;241m-\u001B[39m labels[\u001B[38;5;124m'\u001B[39m\u001B[38;5;124mltv_3h\u001B[39m\u001B[38;5;124m'\u001B[39m], labels[\u001B[38;5;124m'\u001B[39m\u001B[38;5;124mltv3\u001B[39m\u001B[38;5;124m'\u001B[39m] \u001B[38;5;241m-\u001B[39m labels[\u001B[38;5;124m'\u001B[39m\u001B[38;5;124mltv_6h\u001B[39m\u001B[38;5;124m'\u001B[39m]], dim\u001B[38;5;241m=\u001B[39m\u001B[38;5;241m-\u001B[39m\u001B[38;5;241m1\u001B[39m)\u001B[38;5;241m.\u001B[39mclamp(\n\u001B[0;32m     67\u001B[0m     \u001B[38;5;28mmin\u001B[39m\u001B[38;5;241m=\u001B[39m\u001B[38;5;241m0.\u001B[39m)\n\u001B[0;32m     68\u001B[0m cls_label \u001B[38;5;241m=\u001B[39m torch\u001B[38;5;241m.\u001B[39margmax(ltv_delta, dim\u001B[38;5;241m=\u001B[39m\u001B[38;5;241m-\u001B[39m\u001B[38;5;241m1\u001B[39m)\n\u001B[0;32m     69\u001B[0m return_dict \u001B[38;5;241m=\u001B[39m {\n\u001B[0;32m     70\u001B[0m     \u001B[38;5;124m'\u001B[39m\u001B[38;5;124mlogit\u001B[39m\u001B[38;5;124m'\u001B[39m: logits,\n\u001B[0;32m     71\u001B[0m     \u001B[38;5;124m'\u001B[39m\u001B[38;5;124mloss\u001B[39m\u001B[38;5;124m'\u001B[39m: loss,\n\u001B[1;32m   (...)\u001B[0m\n\u001B[0;32m     74\u001B[0m     \u001B[38;5;124m'\u001B[39m\u001B[38;5;124mprediction_v\u001B[39m\u001B[38;5;124m'\u001B[39m: value\n\u001B[0;32m     75\u001B[0m }\n",
      "\u001B[1;31mIndexError\u001B[0m: too many indices for tensor of dimension 1"
     ]
    }
   ],
   "execution_count": 3
  },
  {
   "metadata": {
    "ExecuteTime": {
     "end_time": "2024-10-12T09:40:28.510546Z",
     "start_time": "2024-10-12T09:40:28.483478Z"
    }
   },
   "cell_type": "code",
   "source": "df = pd.DataFrame({'Predicted payment probability by TRGT':p , 'Payment predicted by TRGT':v, 'Types of customers predicted by TRGT': cls_labels, 'true_label': true_label})",
   "id": "b2d331c20b58f08c",
   "outputs": [],
   "execution_count": 4
  },
  {
   "metadata": {
    "ExecuteTime": {
     "end_time": "2024-10-12T09:40:28.889829Z",
     "start_time": "2024-10-12T09:40:28.868443Z"
    }
   },
   "cell_type": "code",
   "source": [
    "df['Types of customers predicted by TRGT'] = df['Types of customers predicted by TRGT'].apply(lambda x : 2 if x == 1 else x)\n",
    "df = df[df['Types of customers predicted by TRGT'] != 0]\n",
    "df = df[df['true_label'] != 0]"
   ],
   "id": "1b1c1bc35e936948",
   "outputs": [],
   "execution_count": 5
  },
  {
   "metadata": {
    "ExecuteTime": {
     "end_time": "2024-10-12T09:42:41.497713Z",
     "start_time": "2024-10-12T09:42:41.347218Z"
    }
   },
   "cell_type": "code",
   "source": [
    "from math import log\n",
    "df = pd.DataFrame({'Predicted payment probability by TRGT':p , 'Payment predicted by TRGT':v, 'Types of customers predicted by TRGT': cls_labels, 'true_label': true_label})\n",
    "df['Types of customers predicted by TRGT'] = df['Types of customers predicted by TRGT'].apply(lambda x : 2 if x == 1 else x)\n",
    "# df = df[df['Types of customers predicted by TRGT'] != 0]\n",
    "m = {\n",
    "    0: 'unpaid',\n",
    "    2: 'paid A',\n",
    "    3: 'paid B'\n",
    "}\n",
    "df['Types of customers predicted by TRGT'] = df['Types of customers predicted by TRGT'].apply(lambda x : m[x])\n",
    "df = df[df['Types of customers predicted by TRGT'] != 0]\n",
    "df = df.groupby('Types of customers predicted by TRGT').sample(500, random_state=42)\n",
    "import seaborn as sns\n",
    "fig = sns.stripplot(x=\"Types of customers predicted by TRGT\", y=\"Predicted payment probability by TRGT\", data=df).get_figure()"
   ],
   "id": "b6b53aaf8c2ca874",
   "outputs": [
    {
     "data": {
      "text/plain": [
       "<Figure size 640x480 with 1 Axes>"
      ],
      "image/png": "[encoded data removed]"
     },
     "metadata": {},
     "output_type": "display_data"
    }
   ],
   "execution_count": 24
  },
  {
   "metadata": {
    "ExecuteTime": {
     "end_time": "2024-10-12T09:42:17.187631Z",
     "start_time": "2024-10-12T09:42:17.036309Z"
    }
   },
   "cell_type": "code",
   "source": [
    "from math import log\n",
    "import seaborn as sns\n",
    "sdf = df.groupby('Types of customers predicted by TRGT').sample(500, random_state=4123)\n",
    "# sdf['Payment predicted by TRGT'] = sdf['Payment predicted by TRGT'].apply(log)\n",
    "# sdf['true_label'] = sdf['true_label'].apply(lambda x : log(x))\n",
    "fig = sns.scatterplot(x='true_label', y='Payment predicted by TRGT', hue='Types of customers predicted by TRGT', data=sdf).get_figure()"
   ],
   "id": "a71655f5b7db57a8",
   "outputs": [
    {
     "data": {
      "text/plain": [
       "<Figure size 640x480 with 1 Axes>"
      ],
      "image/png": "[encoded data removed]"
     },
     "metadata": {},
     "output_type": "display_data"
    }
   ],
   "execution_count": 22
  },
  {
   "metadata": {
    "ExecuteTime": {
     "end_time": "2024-10-12T09:26:10.527914Z",
     "start_time": "2024-10-12T09:26:10.147630Z"
    }
   },
   "cell_type": "code",
   "source": "fig.savefig('./test.png', dpi=600)",
   "id": "e5cb37e75efc6217",
   "outputs": [],
   "execution_count": 99
  },
  {
   "metadata": {
    "ExecuteTime": {
     "end_time": "2024-10-12T09:18:49.507643Z",
     "start_time": "2024-10-12T09:18:49.373824Z"
    }
   },
   "cell_type": "code",
   "source": "",
   "id": "49454610bd38c593",
   "outputs": [
    {
     "data": {
      "text/plain": [
       "<Figure size 640x480 with 1 Axes>"
      ],
      "image/png": "[encoded data removed]"
     },
     "metadata": {},
     "output_type": "display_data"
    }
   ],
   "execution_count": 81
  },
  {
   "metadata": {
    "ExecuteTime": {
     "end_time": "2024-10-12T08:36:32.335389Z",
     "start_time": "2024-10-12T08:36:32.032725Z"
    }
   },
   "cell_type": "code",
   "source": "fig.savefig('./wxsh_payment_none.png', dpi=600)",
   "id": "292070d2b88c553b",
   "outputs": [],
   "execution_count": 64
  },
  {
   "metadata": {
    "ExecuteTime": {
     "end_time": "2024-10-12T07:23:43.357920Z",
     "start_time": "2024-10-12T07:23:43.267500Z"
    }
   },
   "cell_type": "code",
   "source": "fig = sns.stripplot(x=\"Types of customers predicted by TRGT\", y=\"v\", data=df).get_figure()",
   "id": "8b49624fee8a870e",
   "outputs": [
    {
     "data": {
      "text/plain": [
       "<Figure size 640x480 with 1 Axes>"
      ],
      "image/png": "[encoded data removed]"
     },
     "metadata": {},
     "output_type": "display_data"
    }
   ],
   "execution_count": 60
  },
  {
   "metadata": {
    "ExecuteTime": {
     "end_time": "2024-10-12T03:15:30.740484Z",
     "start_time": "2024-10-12T03:15:30.737800Z"
    }
   },
   "cell_type": "code",
   "source": [
    "\n",
    "# df = df[df['true_label'] > 0.]"
   ],
   "id": "605aed488fd91cc5",
   "outputs": [],
   "execution_count": 7
  },
  {
   "metadata": {
    "ExecuteTime": {
     "end_time": "2024-10-12T03:20:21.670693Z",
     "start_time": "2024-10-12T03:20:21.663976Z"
    }
   },
   "cell_type": "code",
   "source": "",
   "id": "eba7c6f7232d6f4",
   "outputs": [],
   "execution_count": 19
  },
  {
   "metadata": {
    "ExecuteTime": {
     "end_time": "2024-10-12T03:20:40.751410Z",
     "start_time": "2024-10-12T03:20:40.747587Z"
    }
   },
   "cell_type": "code",
   "source": "",
   "id": "d6c502267e8fbd67",
   "outputs": [],
   "execution_count": 29
  },
  {
   "metadata": {
    "ExecuteTime": {
     "end_time": "2024-10-12T03:20:23.136716Z",
     "start_time": "2024-10-12T03:20:23.130710Z"
    }
   },
   "cell_type": "code",
   "source": "df",
   "id": "de000ab413bb9257",
   "outputs": [
    {
     "data": {
      "text/plain": [
       "              p         v  cls_labels  true_label\n",
       "45615  0.084296  2.533489           2        30.0\n",
       "54426  0.114429  3.789596           2       196.0\n",
       "66670  0.033158  1.388814           2        68.0\n",
       "67415  0.030349  0.963190           2        60.0\n",
       "32417  0.097783  1.692625           2        30.0\n",
       "...         ...       ...         ...         ...\n",
       "63673  0.125410  2.182986           3        30.0\n",
       "39124  0.031967  1.431318           3       792.0\n",
       "16884  0.100190  3.734429           3       228.0\n",
       "52702  0.125022  4.748563           3        74.0\n",
       "35765  0.152408  4.629904           3        68.0\n",
       "\n",
       "[2000 rows x 4 columns]"
      ],
      "text/html": [
       "<div>\n",
       "<style scoped>\n",
       "    .dataframe tbody tr th:only-of-type {\n",
       "        vertical-align: middle;\n",
       "    }\n",
       "\n",
       "    .dataframe tbody tr th {\n",
       "        vertical-align: top;\n",
       "    }\n",
       "\n",
       "    .dataframe thead th {\n",
       "        text-align: right;\n",
       "    }\n",
       "</style>\n",
       "<table border=\"1\" class=\"dataframe\">\n",
       "  <thead>\n",
       "    <tr style=\"text-align: right;\">\n",
       "      <th></th>\n",
       "      <th>p</th>\n",
       "      <th>v</th>\n",
       "      <th>cls_labels</th>\n",
       "      <th>true_label</th>\n",
       "    </tr>\n",
       "  </thead>\n",
       "  <tbody>\n",
       "    <tr>\n",
       "      <th>45615</th>\n",
       "      <td>0.084296</td>\n",
       "      <td>2.533489</td>\n",
       "      <td>2</td>\n",
       "      <td>30.0</td>\n",
       "    </tr>\n",
       "    <tr>\n",
       "      <th>54426</th>\n",
       "      <td>0.114429</td>\n",
       "      <td>3.789596</td>\n",
       "      <td>2</td>\n",
       "      <td>196.0</td>\n",
       "    </tr>\n",
       "    <tr>\n",
       "      <th>66670</th>\n",
       "      <td>0.033158</td>\n",
       "      <td>1.388814</td>\n",
       "      <td>2</td>\n",
       "      <td>68.0</td>\n",
       "    </tr>\n",
       "    <tr>\n",
       "      <th>67415</th>\n",
       "      <td>0.030349</td>\n",
       "      <td>0.963190</td>\n",
       "      <td>2</td>\n",
       "      <td>60.0</td>\n",
       "    </tr>\n",
       "    <tr>\n",
       "      <th>32417</th>\n",
       "      <td>0.097783</td>\n",
       "      <td>1.692625</td>\n",
       "      <td>2</td>\n",
       "      <td>30.0</td>\n",
       "    </tr>\n",
       "    <tr>\n",
       "      <th>...</th>\n",
       "      <td>...</td>\n",
       "      <td>...</td>\n",
       "      <td>...</td>\n",
       "      <td>...</td>\n",
       "    </tr>\n",
       "    <tr>\n",
       "      <th>63673</th>\n",
       "      <td>0.125410</td>\n",
       "      <td>2.182986</td>\n",
       "      <td>3</td>\n",
       "      <td>30.0</td>\n",
       "    </tr>\n",
       "    <tr>\n",
       "      <th>39124</th>\n",
       "      <td>0.031967</td>\n",
       "      <td>1.431318</td>\n",
       "      <td>3</td>\n",
       "      <td>792.0</td>\n",
       "    </tr>\n",
       "    <tr>\n",
       "      <th>16884</th>\n",
       "      <td>0.100190</td>\n",
       "      <td>3.734429</td>\n",
       "      <td>3</td>\n",
       "      <td>228.0</td>\n",
       "    </tr>\n",
       "    <tr>\n",
       "      <th>52702</th>\n",
       "      <td>0.125022</td>\n",
       "      <td>4.748563</td>\n",
       "      <td>3</td>\n",
       "      <td>74.0</td>\n",
       "    </tr>\n",
       "    <tr>\n",
       "      <th>35765</th>\n",
       "      <td>0.152408</td>\n",
       "      <td>4.629904</td>\n",
       "      <td>3</td>\n",
       "      <td>68.0</td>\n",
       "    </tr>\n",
       "  </tbody>\n",
       "</table>\n",
       "<p>2000 rows × 4 columns</p>\n",
       "</div>"
      ]
     },
     "execution_count": 21,
     "metadata": {},
     "output_type": "execute_result"
    }
   ],
   "execution_count": 21
  },
  {
   "metadata": {
    "ExecuteTime": {
     "end_time": "2024-10-12T03:20:23.371073Z",
     "start_time": "2024-10-12T03:20:23.368425Z"
    }
   },
   "cell_type": "code",
   "source": "import matplotlib.pyplot as plt",
   "id": "ada3868b4363bd90",
   "outputs": [],
   "execution_count": 22
  },
  {
   "metadata": {
    "ExecuteTime": {
     "end_time": "2024-10-12T03:20:23.845510Z",
     "start_time": "2024-10-12T03:20:23.838934Z"
    }
   },
   "cell_type": "code",
   "source": "df",
   "id": "6434c07dc1f44c2d",
   "outputs": [
    {
     "data": {
      "text/plain": [
       "              p         v  cls_labels  true_label\n",
       "45615  0.084296  2.533489           2        30.0\n",
       "54426  0.114429  3.789596           2       196.0\n",
       "66670  0.033158  1.388814           2        68.0\n",
       "67415  0.030349  0.963190           2        60.0\n",
       "32417  0.097783  1.692625           2        30.0\n",
       "...         ...       ...         ...         ...\n",
       "63673  0.125410  2.182986           3        30.0\n",
       "39124  0.031967  1.431318           3       792.0\n",
       "16884  0.100190  3.734429           3       228.0\n",
       "52702  0.125022  4.748563           3        74.0\n",
       "35765  0.152408  4.629904           3        68.0\n",
       "\n",
       "[2000 rows x 4 columns]"
      ],
      "text/html": [
       "<div>\n",
       "<style scoped>\n",
       "    .dataframe tbody tr th:only-of-type {\n",
       "        vertical-align: middle;\n",
       "    }\n",
       "\n",
       "    .dataframe tbody tr th {\n",
       "        vertical-align: top;\n",
       "    }\n",
       "\n",
       "    .dataframe thead th {\n",
       "        text-align: right;\n",
       "    }\n",
       "</style>\n",
       "<table border=\"1\" class=\"dataframe\">\n",
       "  <thead>\n",
       "    <tr style=\"text-align: right;\">\n",
       "      <th></th>\n",
       "      <th>p</th>\n",
       "      <th>v</th>\n",
       "      <th>cls_labels</th>\n",
       "      <th>true_label</th>\n",
       "    </tr>\n",
       "  </thead>\n",
       "  <tbody>\n",
       "    <tr>\n",
       "      <th>45615</th>\n",
       "      <td>0.084296</td>\n",
       "      <td>2.533489</td>\n",
       "      <td>2</td>\n",
       "      <td>30.0</td>\n",
       "    </tr>\n",
       "    <tr>\n",
       "      <th>54426</th>\n",
       "      <td>0.114429</td>\n",
       "      <td>3.789596</td>\n",
       "      <td>2</td>\n",
       "      <td>196.0</td>\n",
       "    </tr>\n",
       "    <tr>\n",
       "      <th>66670</th>\n",
       "      <td>0.033158</td>\n",
       "      <td>1.388814</td>\n",
       "      <td>2</td>\n",
       "      <td>68.0</td>\n",
       "    </tr>\n",
       "    <tr>\n",
       "      <th>67415</th>\n",
       "      <td>0.030349</td>\n",
       "      <td>0.963190</td>\n",
       "      <td>2</td>\n",
       "      <td>60.0</td>\n",
       "    </tr>\n",
       "    <tr>\n",
       "      <th>32417</th>\n",
       "      <td>0.097783</td>\n",
       "      <td>1.692625</td>\n",
       "      <td>2</td>\n",
       "      <td>30.0</td>\n",
       "    </tr>\n",
       "    <tr>\n",
       "      <th>...</th>\n",
       "      <td>...</td>\n",
       "      <td>...</td>\n",
       "      <td>...</td>\n",
       "      <td>...</td>\n",
       "    </tr>\n",
       "    <tr>\n",
       "      <th>63673</th>\n",
       "      <td>0.125410</td>\n",
       "      <td>2.182986</td>\n",
       "      <td>3</td>\n",
       "      <td>30.0</td>\n",
       "    </tr>\n",
       "    <tr>\n",
       "      <th>39124</th>\n",
       "      <td>0.031967</td>\n",
       "      <td>1.431318</td>\n",
       "      <td>3</td>\n",
       "      <td>792.0</td>\n",
       "    </tr>\n",
       "    <tr>\n",
       "      <th>16884</th>\n",
       "      <td>0.100190</td>\n",
       "      <td>3.734429</td>\n",
       "      <td>3</td>\n",
       "      <td>228.0</td>\n",
       "    </tr>\n",
       "    <tr>\n",
       "      <th>52702</th>\n",
       "      <td>0.125022</td>\n",
       "      <td>4.748563</td>\n",
       "      <td>3</td>\n",
       "      <td>74.0</td>\n",
       "    </tr>\n",
       "    <tr>\n",
       "      <th>35765</th>\n",
       "      <td>0.152408</td>\n",
       "      <td>4.629904</td>\n",
       "      <td>3</td>\n",
       "      <td>68.0</td>\n",
       "    </tr>\n",
       "  </tbody>\n",
       "</table>\n",
       "<p>2000 rows × 4 columns</p>\n",
       "</div>"
      ]
     },
     "execution_count": 23,
     "metadata": {},
     "output_type": "execute_result"
    }
   ],
   "execution_count": 23
  },
  {
   "metadata": {
    "ExecuteTime": {
     "end_time": "2024-10-12T03:20:24.377543Z",
     "start_time": "2024-10-12T03:20:24.372946Z"
    }
   },
   "cell_type": "code",
   "source": "df['cls_labels'].value_counts()",
   "id": "4862385b10b08f4a",
   "outputs": [
    {
     "data": {
      "text/plain": [
       "cls_labels\n",
       "2    1000\n",
       "3    1000\n",
       "Name: count, dtype: int64"
      ]
     },
     "execution_count": 24,
     "metadata": {},
     "output_type": "execute_result"
    }
   ],
   "execution_count": 24
  },
  {
   "metadata": {
    "ExecuteTime": {
     "end_time": "2024-10-12T03:20:25.094950Z",
     "start_time": "2024-10-12T03:20:25.090394Z"
    }
   },
   "cell_type": "code",
   "source": "df['cls_labels'].value_counts()",
   "id": "a324dda7340d5809",
   "outputs": [
    {
     "data": {
      "text/plain": [
       "cls_labels\n",
       "2    1000\n",
       "3    1000\n",
       "Name: count, dtype: int64"
      ]
     },
     "execution_count": 25,
     "metadata": {},
     "output_type": "execute_result"
    }
   ],
   "execution_count": 25
  },
  {
   "metadata": {
    "ExecuteTime": {
     "end_time": "2024-10-12T03:20:43.920258Z",
     "start_time": "2024-10-12T03:20:43.814462Z"
    }
   },
   "cell_type": "code",
   "source": "",
   "id": "66fd5502ca663895",
   "outputs": [
    {
     "name": "stderr",
     "output_type": "stream",
     "text": [
      "2024-10-12 11:20:43,844 - category.py - INFO - Using categorical units to plot a list of strings that are all parsable as floats or dates. If these strings should be plotted as numbers, cast to the appropriate data type before plotting.\n",
      "2024-10-12 11:20:43,850 - category.py - INFO - Using categorical units to plot a list of strings that are all parsable as floats or dates. If these strings should be plotted as numbers, cast to the appropriate data type before plotting.\n"
     ]
    },
    {
     "data": {
      "text/plain": [
       "<Figure size 640x480 with 1 Axes>"
      ],
      "image/png": "[encoded data removed]"
     },
     "metadata": {},
     "output_type": "display_data"
    }
   ],
   "execution_count": 30
  },
  {
   "metadata": {
    "ExecuteTime": {
     "end_time": "2024-10-12T03:05:54.259760Z",
     "start_time": "2024-10-12T03:05:54.254959Z"
    }
   },
   "cell_type": "code",
   "source": "df['cls_labels'].value_counts()",
   "id": "2a9ed93dd381d092",
   "outputs": [
    {
     "data": {
      "text/plain": [
       "cls_labels\n",
       "2    1000\n",
       "3    1000\n",
       "Name: count, dtype: int64"
      ]
     },
     "execution_count": 57,
     "metadata": {},
     "output_type": "execute_result"
    }
   ],
   "execution_count": 57
  },
  {
   "metadata": {
    "ExecuteTime": {
     "end_time": "2024-10-11T12:10:42.583178Z",
     "start_time": "2024-10-11T12:10:42.279073Z"
    }
   },
   "cell_type": "code",
   "source": "",
   "id": "696b74e7a7d0f92d",
   "outputs": [],
   "execution_count": 38
  },
  {
   "metadata": {
    "ExecuteTime": {
     "end_time": "2024-10-11T12:08:03.400890Z",
     "start_time": "2024-10-11T12:08:03.390555Z"
    }
   },
   "cell_type": "code",
   "source": "plt.savefig('./visual.png')",
   "id": "ac4f317851f2fa65",
   "outputs": [
    {
     "data": {
      "text/plain": [
       "<Figure size 640x480 with 0 Axes>"
      ]
     },
     "metadata": {},
     "output_type": "display_data"
    }
   ],
   "execution_count": 35
  },
  {
   "metadata": {
    "ExecuteTime": {
     "end_time": "2024-10-12T03:05:56.831427Z",
     "start_time": "2024-10-12T03:05:56.828097Z"
    }
   },
   "cell_type": "code",
   "source": [
    "from math import log\n",
    "\n",
    "df['v'] = df['v'].apply(lambda x : log(x))"
   ],
   "id": "4d0900a8872decb4",
   "outputs": [],
   "execution_count": 58
  },
  {
   "metadata": {
    "ExecuteTime": {
     "end_time": "2024-10-12T03:05:57.092131Z",
     "start_time": "2024-10-12T03:05:57.016169Z"
    }
   },
   "cell_type": "code",
   "source": "sns.stripplot(x=\"cls_labels\", y=\"v\", data=df)",
   "id": "8d5616f132bd8c82",
   "outputs": [
    {
     "name": "stderr",
     "output_type": "stream",
     "text": [
      "2024-10-12 11:05:57,024 - category.py - INFO - Using categorical units to plot a list of strings that are all parsable as floats or dates. If these strings should be plotted as numbers, cast to the appropriate data type before plotting.\n",
      "2024-10-12 11:05:57,029 - category.py - INFO - Using categorical units to plot a list of strings that are all parsable as floats or dates. If these strings should be plotted as numbers, cast to the appropriate data type before plotting.\n"
     ]
    },
    {
     "data": {
      "text/plain": [
       "<Axes: xlabel='cls_labels', ylabel='v'>"
      ]
     },
     "execution_count": 59,
     "metadata": {},
     "output_type": "execute_result"
    },
    {
     "data": {
      "text/plain": [
       "<Figure size 640x480 with 1 Axes>"
      ],
      "image/png": "[encoded data removed]"
     },
     "metadata": {},
     "output_type": "display_data"
    }
   ],
   "execution_count": 59
  },
  {
   "metadata": {},
   "cell_type": "markdown",
   "source": "",
   "id": "c70c240d56a3cc7d"
  },
  {
   "metadata": {
    "ExecuteTime": {
     "end_time": "2024-10-11T07:02:12.584120Z",
     "start_time": "2024-10-11T07:02:12.569166Z"
    }
   },
   "cell_type": "code",
   "source": [
    "import numpy as np\n",
    "np.mean(p)"
   ],
   "id": "6e7f390b493ffd2b",
   "outputs": [
    {
     "data": {
      "text/plain": [
       "0.046056833"
      ]
     },
     "execution_count": 9,
     "metadata": {},
     "output_type": "execute_result"
    }
   ],
   "execution_count": 9
  },
  {
   "metadata": {
    "ExecuteTime": {
     "end_time": "2024-10-10T12:44:38.598271Z",
     "start_time": "2024-10-10T12:44:38.581883Z"
    }
   },
   "cell_type": "code",
   "source": [
    "import numpy as np\n",
    "\n",
    "gates = np.concatenate(gate_outputs, axis=0)\n",
    "cls = np.concatenate(cls_labels, axis=0)\n",
    "trgt_outputs = np.concatenate(trgt_outputs, axis=0)"
   ],
   "id": "ebe278580d19d883",
   "outputs": [],
   "execution_count": 4
  },
  {
   "metadata": {
    "ExecuteTime": {
     "end_time": "2024-10-10T12:44:38.621773Z",
     "start_time": "2024-10-10T12:44:38.598271Z"
    }
   },
   "cell_type": "code",
   "source": [
    "import pandas as pd\n",
    "df = pd.DataFrame(np.concatenate([np.expand_dims(cls, 1), trgt_outputs], axis=1))"
   ],
   "id": "b67ba928803e16ed",
   "outputs": [],
   "execution_count": 5
  },
  {
   "metadata": {
    "ExecuteTime": {
     "end_time": "2024-10-10T12:44:38.645932Z",
     "start_time": "2024-10-10T12:44:38.622776Z"
    }
   },
   "cell_type": "code",
   "source": "pay_df = df[df[0]>0.0]",
   "id": "604a9053d5208b19",
   "outputs": [],
   "execution_count": 6
  },
  {
   "metadata": {
    "ExecuteTime": {
     "end_time": "2024-10-10T12:44:38.685373Z",
     "start_time": "2024-10-10T12:44:38.646470Z"
    }
   },
   "cell_type": "code",
   "source": "pay_df.iloc[:, 0] = pay_df.iloc[:, 0].apply(lambda x: 2. if x==1. else x)",
   "id": "549538cb453471c3",
   "outputs": [],
   "execution_count": 7
  },
  {
   "metadata": {
    "ExecuteTime": {
     "end_time": "2024-10-10T12:44:38.690200Z",
     "start_time": "2024-10-10T12:44:38.685373Z"
    }
   },
   "cell_type": "code",
   "source": [
    "emb = np.array(pay_df.iloc[:, 1:])\n",
    "c = np.array(pay_df.iloc[:, 0])"
   ],
   "id": "b04c6ccfd8faca86",
   "outputs": [],
   "execution_count": 8
  },
  {
   "metadata": {
    "ExecuteTime": {
     "end_time": "2024-10-10T12:45:19.596146Z",
     "start_time": "2024-10-10T12:44:38.690200Z"
    }
   },
   "cell_type": "code",
   "source": [
    "import hypertools as hyp\n",
    "hyp.plot(emb,'.',reduce='TSNE',ndims=2,hue=c,palette=['#F05A7E', '#125B9A'])"
   ],
   "id": "1f5d03b81ca40b01",
   "outputs": [
    {
     "name": "stderr",
     "output_type": "stream",
     "text": [
      "D:\\app\\miniconda3\\Lib\\site-packages\\hypertools\\plot\\plot.py:510: UserWarning: Could not convert all list arguments to numpy arrays.  If list is longer than 256 items, it will automatically be pickled, which could cause Python 2/3 compatibility issues for the DataGeometry object.\n",
      "  warnings.warn('Could not convert all list arguments to numpy '\n"
     ]
    },
    {
     "data": {
      "text/plain": [
       "<hypertools.datageometry.DataGeometry at 0x28282af9400>"
      ]
     },
     "execution_count": 9,
     "metadata": {},
     "output_type": "execute_result"
    }
   ],
   "execution_count": 9
  },
  {
   "metadata": {
    "ExecuteTime": {
     "end_time": "2024-10-10T12:45:19.599992Z",
     "start_time": "2024-10-10T12:45:19.596146Z"
    }
   },
   "cell_type": "code",
   "source": "import matplotlib.pyplot as plt",
   "id": "226012690dcec605",
   "outputs": [],
   "execution_count": 10
  },
  {
   "metadata": {
    "ExecuteTime": {
     "end_time": "2024-10-10T12:45:20.069319Z",
     "start_time": "2024-10-10T12:45:19.599992Z"
    }
   },
   "cell_type": "code",
   "source": "plt.savefig(r'./visualize_mdnf.png', dpi=600)",
   "id": "792ee11a9da6499",
   "outputs": [],
   "execution_count": 11
  },
  {
   "metadata": {
    "ExecuteTime": {
     "end_time": "2024-10-09T08:42:17.739996Z",
     "start_time": "2024-10-09T08:42:17.728085Z"
    }
   },
   "cell_type": "code",
   "source": "",
   "id": "19bee007fc8d77a7",
   "outputs": [
    {
     "data": {
      "text/plain": [
       "(102843, 44)"
      ]
     },
     "execution_count": 15,
     "metadata": {},
     "output_type": "execute_result"
    }
   ],
   "execution_count": 15
  },
  {
   "metadata": {
    "ExecuteTime": {
     "end_time": "2024-10-09T08:41:21.043451Z",
     "start_time": "2024-10-09T08:41:21.040695Z"
    }
   },
   "cell_type": "code",
   "source": "cls.squeeze().shape",
   "id": "56f4cf7928f9ebdb",
   "outputs": [
    {
     "data": {
      "text/plain": [
       "(102843,)"
      ]
     },
     "execution_count": 12,
     "metadata": {},
     "output_type": "execute_result"
    }
   ],
   "execution_count": 12
  },
  {
   "metadata": {
    "ExecuteTime": {
     "end_time": "2024-10-09T08:42:08.157477Z",
     "start_time": "2024-10-09T08:42:08.153407Z"
    }
   },
   "cell_type": "code",
   "source": "np.expand_dims(cls, 1).shape",
   "id": "db6e7b05fb5f8a36",
   "outputs": [
    {
     "data": {
      "text/plain": [
       "(102843, 1)"
      ]
     },
     "execution_count": 14,
     "metadata": {},
     "output_type": "execute_result"
    }
   ],
   "execution_count": 14
  },
  {
   "metadata": {
    "ExecuteTime": {
     "end_time": "2024-10-09T08:59:37.304923Z",
     "start_time": "2024-10-09T08:59:37.298578Z"
    }
   },
   "cell_type": "code",
   "source": "",
   "id": "d33682431b1d892a",
   "outputs": [
    {
     "name": "stderr",
     "output_type": "stream",
     "text": [
      "C:\\Users\\hhaotian\\AppData\\Local\\Temp\\ipykernel_32944\\1058782110.py:1: UserWarning: Boolean Series key will be reindexed to match DataFrame index.\n",
      "  dfa = pay_df[df[43]<3.0]\n",
      "C:\\Users\\hhaotian\\AppData\\Local\\Temp\\ipykernel_32944\\1058782110.py:2: UserWarning: Boolean Series key will be reindexed to match DataFrame index.\n",
      "  dfb = pay_df[df[43]==3.0]\n"
     ]
    }
   ],
   "execution_count": 36
  },
  {
   "metadata": {
    "ExecuteTime": {
     "end_time": "2024-10-09T08:59:41.750241Z",
     "start_time": "2024-10-09T08:59:41.746554Z"
    }
   },
   "cell_type": "code",
   "source": "dfa.shape",
   "id": "5c536f0424ea2ece",
   "outputs": [
    {
     "data": {
      "text/plain": [
       "(6106, 44)"
      ]
     },
     "execution_count": 37,
     "metadata": {},
     "output_type": "execute_result"
    }
   ],
   "execution_count": 37
  },
  {
   "metadata": {
    "ExecuteTime": {
     "end_time": "2024-10-09T08:59:41.911341Z",
     "start_time": "2024-10-09T08:59:41.908215Z"
    }
   },
   "cell_type": "code",
   "source": "dfb.shape",
   "id": "d27542785548e56c",
   "outputs": [
    {
     "data": {
      "text/plain": [
       "(6323, 44)"
      ]
     },
     "execution_count": 38,
     "metadata": {},
     "output_type": "execute_result"
    }
   ],
   "execution_count": 38
  },
  {
   "metadata": {
    "ExecuteTime": {
     "end_time": "2024-10-09T09:10:45.303306Z",
     "start_time": "2024-10-09T09:10:45.297798Z"
    }
   },
   "cell_type": "code",
   "source": [
    "import torch\n",
    "ma = torch.mean(torch.sigmoid(torch.tensor(np.array(dfa))), dim=0)\n",
    "ma.shape"
   ],
   "id": "e1baf6cf8759079f",
   "outputs": [
    {
     "data": {
      "text/plain": [
       "torch.Size([44])"
      ]
     },
     "execution_count": 66,
     "metadata": {},
     "output_type": "execute_result"
    }
   ],
   "execution_count": 66
  },
  {
   "metadata": {
    "ExecuteTime": {
     "end_time": "2024-10-09T09:10:45.558036Z",
     "start_time": "2024-10-09T09:10:45.552933Z"
    }
   },
   "cell_type": "code",
   "source": [
    "import torch\n",
    "mb = torch.mean(torch.sigmoid(torch.tensor(np.array(dfb))), dim=0)\n",
    "mb.shape"
   ],
   "id": "d693cc94a7857f12",
   "outputs": [
    {
     "data": {
      "text/plain": [
       "torch.Size([44])"
      ]
     },
     "execution_count": 67,
     "metadata": {},
     "output_type": "execute_result"
    }
   ],
   "execution_count": 67
  },
  {
   "metadata": {
    "ExecuteTime": {
     "end_time": "2024-10-09T09:04:41.261412Z",
     "start_time": "2024-10-09T09:04:41.256974Z"
    }
   },
   "cell_type": "code",
   "source": "ma",
   "id": "a011b4867efe2d1c",
   "outputs": [
    {
     "data": {
      "text/plain": [
       "tensor([0.2311, 0.3654, 0.2033, 0.3533, 0.3550, 0.6133, 0.4823, 0.1398, 0.1407,\n",
       "        0.3576, 0.5140, 0.6575, 0.2935, 0.2761, 0.6834, 0.3532, 0.2888, 0.3141,\n",
       "        0.2527, 0.8219, 0.3651, 0.1840, 0.0809, 0.1849, 0.3587, 0.2125, 0.4605,\n",
       "        0.2526, 0.2344, 0.4751, 0.3736, 0.4373, 0.4308, 0.3605, 0.1775, 0.5041,\n",
       "        0.4407, 0.2427, 0.9069, 0.2910, 0.5607, 0.4575, 0.8091, 0.9526],\n",
       "       dtype=torch.float64)"
      ]
     },
     "execution_count": 54,
     "metadata": {},
     "output_type": "execute_result"
    }
   ],
   "execution_count": 54
  },
  {
   "metadata": {
    "ExecuteTime": {
     "end_time": "2024-10-09T09:06:36.124153Z",
     "start_time": "2024-10-09T09:06:36.121336Z"
    }
   },
   "cell_type": "code",
   "source": "x = list(range(ma.shape[0]))",
   "id": "cf15d4c03b991d6e",
   "outputs": [],
   "execution_count": 56
  },
  {
   "metadata": {
    "ExecuteTime": {
     "end_time": "2024-10-09T09:07:33.068298Z",
     "start_time": "2024-10-09T09:07:32.860469Z"
    }
   },
   "cell_type": "code",
   "source": [
    "import matplotlib.pyplot as plt\n",
    "\n",
    "# 创建折线图\n",
    "plt.plot(x, ma.tolist())\n",
    "\n",
    "# 添加标题和轴标签\n",
    "plt.title(\"简单折线图\")\n",
    "plt.xlabel(\"X轴\")\n",
    "plt.ylabel(\"Y轴\")\n",
    "\n",
    "# 显示图形\n",
    "plt.show()\n",
    "plt.savefig('./feature_importance.png', dpi=600)"
   ],
   "id": "4eae38872878c1bb",
   "outputs": [
    {
     "data": {
      "text/plain": [
       "<Figure size 640x480 with 1 Axes>"
      ]
     },
     "metadata": {},
     "output_type": "display_data"
    }
   ],
   "execution_count": 59
  },
  {
   "metadata": {
    "ExecuteTime": {
     "end_time": "2024-10-09T09:10:52.338411Z",
     "start_time": "2024-10-09T09:10:52.335512Z"
    }
   },
   "cell_type": "code",
   "source": "sdf = pd.DataFrame([ma.tolist(), mb.tolist()])",
   "id": "bfc4b1c2df0f4eaf",
   "outputs": [],
   "execution_count": 68
  },
  {
   "metadata": {
    "ExecuteTime": {
     "end_time": "2024-10-09T09:10:52.665752Z",
     "start_time": "2024-10-09T09:10:52.662505Z"
    }
   },
   "cell_type": "code",
   "source": "sdf.T.to_csv('importance.csv')",
   "id": "ac7d2cd0ff1005e2",
   "outputs": [],
   "execution_count": 69
  },
  {
   "metadata": {},
   "cell_type": "code",
   "outputs": [],
   "execution_count": null,
   "source": "",
   "id": "2847f19da5bf7baf"
  }
 ],
 "metadata": {
  "kernelspec": {
   "display_name": "Python 3",
   "language": "python",
   "name": "python3"
  },
  "language_info": {
   "codemirror_mode": {
    "name": "ipython",
    "version": 2
   },
   "file_extension": ".py",
   "mimetype": "text/x-python",
   "name": "python",
   "nbconvert_exporter": "python",
   "pygments_lexer": "ipython2",
   "version": "2.7.6"
  }
 },
 "nbformat": 4,
 "nbformat_minor": 5
}
