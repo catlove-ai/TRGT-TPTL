{
 "cells": [
  {
   "cell_type": "code",
   "id": "initial_id",
   "metadata": {
    "collapsed": true,
    "ExecuteTime": {
     "end_time": "2024-09-15T02:58:06.896870Z",
     "start_time": "2024-09-15T02:57:50.728994Z"
    }
   },
   "source": [
    "from base_model import BaseModel\n",
    "from config.features import ALL_FEATURES\n",
    "from utils.datasets import BaseDataset, base_collate\n",
    "from torch.utils.data import DataLoader"
   ],
   "outputs": [],
   "execution_count": 1
  },
  {
   "metadata": {
    "ExecuteTime": {
     "end_time": "2024-09-15T02:58:07.091634Z",
     "start_time": "2024-09-15T02:58:06.897874Z"
    }
   },
   "cell_type": "code",
   "source": "model = BaseModel(ALL_FEATURES)",
   "id": "b6e2edec2ddfb36c",
   "outputs": [
    {
     "name": "stderr",
     "output_type": "stream",
     "text": [
      "2024-09-15 10:58:07,089 - models.py - INFO - base model info: {'hidden_dim': 376, 'params': {'Total': 525709, 'Trainable': 525709}, 'device': 'cuda:0'}\n"
     ]
    }
   ],
   "execution_count": 2
  },
  {
   "metadata": {
    "ExecuteTime": {
     "end_time": "2024-09-15T02:58:08.401675Z",
     "start_time": "2024-09-15T02:58:07.092637Z"
    }
   },
   "cell_type": "code",
   "source": [
    "ds = BaseDataset('mdnf', 805, 810, ALL_FEATURES, max_rows=100)\n",
    "loader = DataLoader(ds, batch_size=4, collate_fn=base_collate)"
   ],
   "id": "4cbd0644d7f83636",
   "outputs": [
    {
     "name": "stderr",
     "output_type": "stream",
     "text": [
      "2024-09-15 10:58:08,128 - common.py - INFO - Read dataframe from csv D:/codes/www\\data\\mdnf/mdnf_6h_805.csv | sample number: 76291\n"
     ]
    }
   ],
   "execution_count": 3
  },
  {
   "metadata": {
    "ExecuteTime": {
     "end_time": "2024-09-15T02:58:08.407476Z",
     "start_time": "2024-09-15T02:58:08.401675Z"
    }
   },
   "cell_type": "code",
   "source": "batch = next(iter(loader))",
   "id": "7dd2211e08b8ff35",
   "outputs": [],
   "execution_count": 4
  },
  {
   "metadata": {
    "ExecuteTime": {
     "end_time": "2024-09-15T02:58:08.792221Z",
     "start_time": "2024-09-15T02:58:08.408480Z"
    }
   },
   "cell_type": "code",
   "source": "result = model(batch)",
   "id": "5cf34decceb78460",
   "outputs": [
    {
     "name": "stdout",
     "output_type": "stream",
     "text": [
      "({'vopenid': ['oFdwkuBLnTxibhrKP4ARNLLNIecU', 'oFdwkuBR6vv3eKuakQrag-sxEZpU', 'oFdwkuBhLiXMXxMfi69pKrMho0EM', 'oFdwkuCM78mGEDjsn4azmvt3D-tk'], 'vgameappid': ['wx15e4ed4511fd50c9', 'wx15e4ed4511fd50c9', 'wx15e4ed4511fd50c9', 'wx15e4ed4511fd50c9'], 'o2_game_id': [107868, 107868, 107868, 107868], 'media_type': ['0', '0', '0', '0'], 'media_id': [0, 0, 0, 0]}, {'screenwidth': tensor([49, 55, 63, 49]), 'screenheight': tensor([49, 52, 54, 49]), 'density': tensor([51, 50, 50, 51]), 'memory': tensor([48, 50, 50, 48]), 'active_game_count': tensor([0, 0, 0, 0]), 'active_count': tensor([0, 0, 0, 0]), 'active_count_quantile': tensor([0, 0, 0, 0]), 'active_smoba': tensor([0, 0, 0, 0]), 'active_jdqssy': tensor([0, 0, 0, 0]), 'active_jk': tensor([0, 0, 0, 0]), 'active_hlddzh5': tensor([0, 0, 0, 0]), 'active_lgame': tensor([0, 0, 0, 0]), 'active_poker': tensor([0, 0, 0, 0]), 'active_uamobile_live': tensor([0, 0, 0, 0]), 'active_chinesechess': tensor([0, 0, 0, 0]), 'active_af': tensor([0, 0, 0, 0]), 'active_kihan': tensor([0, 0, 0, 0]), 'active_cmelive': tensor([0, 0, 0, 0]), 'active_clashofclans': tensor([0, 0, 0, 0]), 'active_qsm': tensor([0, 0, 0, 0]), 'active_mahjong': tensor([0, 0, 0, 0]), 'active_hlmj3dh5': tensor([0, 0, 0, 0]), 'active_wepang': tensor([0, 0, 0, 0]), 'active_bs': tensor([0, 0, 0, 0]), 'active_clashroyale': tensor([0, 0, 0, 0]), 'active_love': tensor([0, 0, 0, 0]), 'active_ffm': tensor([0, 0, 0, 0]), 'active_wefeng': tensor([0, 0, 0, 0]), 'active_herokill': tensor([0, 0, 0, 0]), 'active_nbamg': tensor([0, 0, 0, 0]), 'active_qqx5': tensor([0, 0, 0, 0]), 'active_wepop': tensor([0, 0, 0, 0]), 'active_ttzq': tensor([0, 0, 0, 0]), 'active_wxsh': tensor([0, 0, 0, 0]), 'active_hlup': tensor([0, 0, 0, 0]), 'active_mg': tensor([0, 0, 0, 0]), 'active_tlbb': tensor([0, 0, 0, 0]), 'active_xgame2': tensor([0, 0, 0, 0]), 'active_wefly': tensor([0, 0, 0, 0]), 'active_hjol': tensor([0, 0, 0, 0]), 'active_qjnn': tensor([0, 0, 0, 0]), 'active_vc': tensor([0, 0, 0, 0]), 'active_shootgame': tensor([0, 0, 0, 0]), 'active_wslg': tensor([0, 0, 0, 0]), 'active_wuxia_mobile': tensor([0, 0, 0, 0]), 'active_ttmj': tensor([0, 0, 0, 0]), 'active_swy': tensor([0, 0, 0, 0]), 'active_kr': tensor([0, 0, 0, 0]), 'active_tlbb2': tensor([0, 0, 0, 0]), 'active_egame': tensor([0, 0, 0, 0]), 'active_byjg': tensor([0, 0, 0, 0]), 'active_wmsj': tensor([0, 0, 0, 0]), 'active_qhmy': tensor([0, 0, 0, 0]), 'active_kof': tensor([0, 0, 0, 0]), 'active_smbbxsj': tensor([0, 0, 0, 0]), 'active_hxgame': tensor([0, 0, 0, 0]), 'active_newxgame': tensor([0, 0, 0, 0]), 'active_wefire': tensor([0, 0, 0, 0]), 'active_jxqy': tensor([0, 0, 0, 0]), 'active_wpzs': tensor([0, 0, 0, 0]), 'active_mirmobile': tensor([0, 0, 0, 0]), 'active_ffom': tensor([0, 0, 0, 0]), 'active_ssk': tensor([0, 0, 0, 0]), 'active_xssh': tensor([0, 0, 0, 0]), 'active_vxd': tensor([0, 0, 0, 0]), 'active_sgqyz': tensor([0, 0, 0, 0]), 'active_lzjd': tensor([0, 0, 0, 0]), 'active_gwgo': tensor([0, 0, 0, 0]), 'active_dpcqm': tensor([0, 0, 0, 0]), 'active_lol': tensor([0, 0, 0, 0]), 'active_cf': tensor([0, 0, 0, 0]), 'active_qqkart': tensor([0, 0, 0, 0]), 'active_dnf': tensor([0, 0, 0, 0]), 'active_x5': tensor([0, 0, 0, 0]), 'active_tgame': tensor([0, 0, 0, 0]), 'active_fo4': tensor([0, 0, 0, 0]), 'active_nba2kol2': tensor([0, 0, 0, 0]), 'active_cfhd': tensor([0, 0, 0, 0]), 'active_newroco': tensor([0, 0, 0, 0]), 'active_sg': tensor([0, 0, 0, 0]), 'active_nba': tensor([0, 0, 0, 0]), 'active_qsgame': tensor([0, 0, 0, 0]), 'active_x52': tensor([0, 0, 0, 0]), 'active_bns': tensor([0, 0, 0, 0]), 'active_sopcn': tensor([0, 0, 0, 0]), 'active_tps': tensor([0, 0, 0, 0]), 'active_ffoqq': tensor([0, 0, 0, 0]), 'active_hy': tensor([0, 0, 0, 0]), 'active_yl': tensor([0, 0, 0, 0]), 'active_wgame': tensor([0, 0, 0, 0]), 'active_hjdt': tensor([0, 0, 0, 0]), 'pay_game_count': tensor([0, 0, 0, 0]), 'pay_count': tensor([0, 0, 0, 0]), 'pay_sum': tensor([0, 0, 0, 0]), 'pay_sum_quantile': tensor([0, 0, 0, 0]), 'payment_smoba': tensor([0, 0, 0, 0]), 'payment_jdqssy': tensor([0, 0, 0, 0]), 'payment_jk': tensor([0, 0, 0, 0]), 'payment_hlddzh5': tensor([0, 0, 0, 0]), 'payment_lgame': tensor([0, 0, 0, 0]), 'payment_poker': tensor([0, 0, 0, 0]), 'payment_uamobile_live': tensor([0, 0, 0, 0]), 'payment_chinesechess': tensor([0, 0, 0, 0]), 'payment_af': tensor([0, 0, 0, 0]), 'payment_kihan': tensor([0, 0, 0, 0]), 'payment_cmelive': tensor([0, 0, 0, 0]), 'payment_clashofclans': tensor([0, 0, 0, 0]), 'payment_qsm': tensor([0, 0, 0, 0]), 'payment_mahjong': tensor([0, 0, 0, 0]), 'payment_hlmj3dh5': tensor([0, 0, 0, 0]), 'payment_wepang': tensor([0, 0, 0, 0]), 'payment_bs': tensor([0, 0, 0, 0]), 'payment_clashroyale': tensor([0, 0, 0, 0]), 'payment_love': tensor([0, 0, 0, 0]), 'payment_ffm': tensor([0, 0, 0, 0]), 'payment_wefeng': tensor([0, 0, 0, 0]), 'payment_herokill': tensor([0, 0, 0, 0]), 'payment_nbamg': tensor([0, 0, 0, 0]), 'payment_qqx5': tensor([0, 0, 0, 0]), 'payment_wepop': tensor([0, 0, 0, 0]), 'payment_ttzq': tensor([0, 0, 0, 0]), 'payment_wxsh': tensor([0, 0, 0, 0]), 'payment_hlup': tensor([0, 0, 0, 0]), 'payment_mg': tensor([0, 0, 0, 0]), 'payment_tlbb': tensor([0, 0, 0, 0]), 'payment_xgame2': tensor([0, 0, 0, 0]), 'payment_wefly': tensor([0, 0, 0, 0]), 'payment_hjol': tensor([0, 0, 0, 0]), 'payment_qjnn': tensor([0, 0, 0, 0]), 'payment_vc': tensor([0, 0, 0, 0]), 'payment_shootgame': tensor([0, 0, 0, 0]), 'payment_wslg': tensor([0, 0, 0, 0]), 'payment_wuxia_mobile': tensor([0, 0, 0, 0]), 'payment_ttmj': tensor([0, 0, 0, 0]), 'payment_swy': tensor([0, 0, 0, 0]), 'payment_kr': tensor([0, 0, 0, 0]), 'payment_tlbb2': tensor([0, 0, 0, 0]), 'payment_egame': tensor([0, 0, 0, 0]), 'payment_byjg': tensor([0, 0, 0, 0]), 'payment_wmsj': tensor([0, 0, 0, 0]), 'payment_qhmy': tensor([0, 0, 0, 0]), 'payment_kof': tensor([0, 0, 0, 0]), 'payment_smbbxsj': tensor([0, 0, 0, 0]), 'payment_hxgame': tensor([0, 0, 0, 0]), 'payment_newxgame': tensor([0, 0, 0, 0]), 'payment_wefire': tensor([0, 0, 0, 0]), 'payment_jxqy': tensor([0, 0, 0, 0]), 'payment_wpzs': tensor([0, 0, 0, 0]), 'payment_mirmobile': tensor([0, 0, 0, 0]), 'payment_ffom': tensor([0, 0, 0, 0]), 'payment_ssk': tensor([0, 0, 0, 0]), 'payment_xssh': tensor([0, 0, 0, 0]), 'payment_vxd': tensor([0, 0, 0, 0]), 'payment_sgqyz': tensor([0, 0, 0, 0]), 'payment_lzjd': tensor([0, 0, 0, 0]), 'payment_gwgo': tensor([0, 0, 0, 0]), 'payment_dpcqm': tensor([0, 0, 0, 0]), 'payment_lol': tensor([0, 0, 0, 0]), 'payment_cf': tensor([0, 0, 0, 0]), 'payment_qqkart': tensor([0, 0, 0, 0]), 'payment_dnf': tensor([0, 0, 0, 0]), 'payment_x5': tensor([0, 0, 0, 0]), 'payment_tgame': tensor([0, 0, 0, 0]), 'payment_fo4': tensor([0, 0, 0, 0]), 'payment_nba2kol2': tensor([0, 0, 0, 0]), 'payment_cfhd': tensor([0, 0, 0, 0]), 'payment_newroco': tensor([0, 0, 0, 0]), 'payment_sg': tensor([0, 0, 0, 0]), 'payment_nba': tensor([0, 0, 0, 0]), 'payment_qsgame': tensor([0, 0, 0, 0]), 'payment_x52': tensor([0, 0, 0, 0]), 'payment_bns': tensor([0, 0, 0, 0]), 'payment_sopcn': tensor([0, 0, 0, 0]), 'payment_tps': tensor([0, 0, 0, 0]), 'payment_ffoqq': tensor([0, 0, 0, 0]), 'payment_hy': tensor([0, 0, 0, 0]), 'payment_yl': tensor([0, 0, 0, 0]), 'payment_wgame': tensor([0, 0, 0, 0]), 'payment_hjdt': tensor([0, 0, 0, 0]), '2_8_1': tensor([0, 0, 0, 0]), '2_8_10': tensor([0, 0, 0, 0]), '2_8_11': tensor([0, 0, 0, 0]), '2_8_12': tensor([0, 0, 0, 0]), '2_8_13': tensor([0, 0, 0, 0]), '2_8_14': tensor([0, 0, 0, 0]), '2_8_15': tensor([0, 0, 0, 0]), '2_8_16': tensor([0, 0, 0, 0]), '2_8_17': tensor([0, 0, 0, 0]), '2_8_18': tensor([0, 0, 0, 0]), '2_8_19': tensor([0, 0, 0, 0]), '2_8_2': tensor([0, 0, 0, 0]), '2_8_20': tensor([0, 0, 0, 0]), '2_8_21': tensor([0, 0, 0, 0]), '2_8_3': tensor([0, 0, 0, 0]), '2_8_4': tensor([0, 0, 0, 0]), '2_8_5': tensor([0, 0, 0, 0]), '2_8_6': tensor([0, 0, 0, 0]), '2_8_7': tensor([0, 0, 0, 0]), '2_8_8': tensor([0, 0, 0, 0]), '2_8_9': tensor([0, 0, 0, 0]), 'mean_level': tensor([0, 0, 0, 0]), 'max_level': tensor([0, 0, 0, 0]), 'max_register_days': tensor([0, 0, 0, 0]), 'min_register_days': tensor([0, 0, 0, 0]), 'max_last_active_days': tensor([0, 0, 0, 0]), 'min_last_active_days': tensor([0, 0, 0, 0]), 'mean_active_days_ratio': tensor([0, 0, 0, 0]), 'max_active_days_ratio': tensor([0, 0, 0, 0]), 'mean_active_weeks_ratio': tensor([0, 0, 0, 0]), 'max_active_weeks_ratio': tensor([0, 0, 0, 0]), 'mean_active_months_ratio': tensor([0, 0, 0, 0]), 'max_active_months_ratio': tensor([0, 0, 0, 0]), 'pay_game_num_cumulative': tensor([0, 0, 0, 0]), 'sum_payment_cumulative': tensor([0, 0, 0, 0]), 'sum_pay_times_cumulative': tensor([0, 0, 0, 0]), 'pay_game_nums_year': tensor([0, 0, 0, 0]), 'sum_payment_year': tensor([0, 0, 0, 0]), 'sum_pay_times_year': tensor([0, 0, 0, 0]), 'pay_game_nums_180days': tensor([0, 0, 0, 0]), 'sum_payment_180days': tensor([0, 0, 0, 0]), 'sum_pay_times_180days': tensor([0, 0, 0, 0]), 'pay_game_nums_30days': tensor([0, 0, 0, 0]), 'sum_payment_30days': tensor([0, 0, 0, 0]), 'sum_pay_times_30days': tensor([0, 0, 0, 0]), 'login_cnt': tensor([25, 50, 50, 25]), 'onlinetime_sum': tensor([ 4, 50, 50, 14]), 'onlinetime_ave': tensor([ 6, 26, 47, 27]), 'moneyflow_add_cnt': tensor([ 0, 34, 50, 14]), 'moneyflow_sub_cnt': tensor([ 0,  7, 33,  1]), 'moneyflow_add_value': tensor([ 0,  2, 50,  2]), 'moneyflow_sub_value': tensor([0, 3, 5, 2]), 'moneyflow_add_type': tensor([ 0, 21, 57, 11]), 'moneyflow_sub_type': tensor([ 0,  1, 54,  1]), 'taskflow_count': tensor([ 0, 46,  0, 21]), 'taskflow_type': tensor([ 0, 50,  0, 50]), 'level': tensor([ 1, 20, 98, 14]), 'friendnum': tensor([0, 0, 1, 0]), 'vip_level': tensor([0, 0, 0, 0]), 'dense_spe_feat1': tensor([ 3, 16, 63, 10]), 'dense_spe_feat2': tensor([0, 0, 0, 0]), 'dense_spe_feat3': tensor([0, 0, 0, 0]), 'dense_spe_feat4': tensor([0, 0, 0, 0]), 'dense_spe_feat5': tensor([0, 0, 0, 0]), 'dense_spe_feat6': tensor([ 0,  0, 50,  0]), 'dense_spe_feat7': tensor([ 0,  2, 52,  2]), 'dense_spe_feat8': tensor([ 0, 50, 58,  0]), 'dense_spe_feat9': tensor([50, 50, 50, 50]), 'dense_spe_feat10': tensor([ 0,  0, 50,  0]), 'dense_spe_feat11': tensor([ 0,  0, 82,  0]), 'dense_spe_feat12': tensor([0, 0, 0, 0]), 'dense_spe_feat13': tensor([0, 0, 0, 0]), 'dense_spe_feat14': tensor([0, 0, 0, 0]), 'dense_spe_feat15': tensor([ 0,  0, 17,  0]), 'dense_spe_feat16': tensor([0, 0, 0, 0]), 'dense_spe_feat17': tensor([ 0,  4, 50,  2]), 'dense_spe_feat18': tensor([ 0,  0, 50,  0]), 'dense_spe_feat19': tensor([0, 0, 0, 0]), 'dense_spe_feat20': tensor([0, 0, 0, 0]), 'dense_spe_feat21': tensor([0, 0, 0, 0]), 'dense_spe_feat22': tensor([0, 0, 0, 0]), 'dense_spe_feat23': tensor([0, 0, 0, 0]), 'dense_spe_feat24': tensor([0, 0, 0, 0]), 'dense_spe_feat25': tensor([0, 0, 0, 0]), 'dense_spe_feat26': tensor([0, 0, 0, 0]), 'dense_spe_feat27': tensor([ 1, 29, 50, 13]), 'dense_spe_feat28': tensor([ 1,  1, 62,  1]), 'dense_spe_feat29': tensor([ 0, 74,  0, 50]), 'dense_spe_feat30': tensor([ 0,  0, 50,  0]), 'user_type': tensor([0, 0, 1, 0]), 'clientversion': tensor([55, 55, 55, 55]), 'systemsoftware': tensor([55,  8,  8, 77]), 'systemhardware': tensor([855, 415,  21, 553]), 'telecomoper': tensor([5, 5, 5, 5]), 'network': tensor([1, 4, 4, 1]), 'loginchannel': tensor([301, 476, 476, 301]), 'gamesvrid': tensor([849, 793, 989,   3]), 'platid': tensor([1, 0, 0, 1]), 'province_index': tensor([0, 0, 0, 0]), 'city_level_index': tensor([0, 0, 0, 0]), 'grade_index': tensor([0, 0, 0, 0]), 'constellation_index': tensor([0, 0, 0, 0]), 'rural_crowd_index': tensor([0, 0, 0, 0]), 'high_profile_app_crowd_index': tensor([0, 0, 0, 0]), 'people_with_cars_index': tensor([0, 0, 0, 0]), 'people_with_house_index': tensor([0, 0, 0, 0]), 'lifestatus_v2_index': tensor([0, 0, 0, 0]), 'gender_v5_index': tensor([0, 0, 0, 0]), 'age_range': tensor([0, 0, 0, 0]), 'age_v5': tensor([0, 0, 0, 0]), 'animeflag': tensor([0, 0, 0, 0]), 'sum_payment_year_bucket': tensor([0, 0, 0, 0]), 'sum_payment_30days_bucket': tensor([0, 0, 0, 0]), 'sum_pay_times_year_bucket': tensor([0, 0, 0, 0]), 'sum_pay_times_30days_bucket': tensor([0, 0, 0, 0]), 'cat_spe_feat1': tensor([272, 195, 195, 272]), 'cat_spe_feat2': tensor([195, 195, 707, 195]), 'cat_spe_feat3': tensor([435, 435, 435, 435]), 'cat_spe_feat4': tensor([0, 0, 0, 0]), 'cat_spe_feat5': tensor([0, 0, 0, 0]), 'cat_spe_feat6': tensor([0, 0, 0, 0]), 'cat_spe_feat7': tensor([0, 0, 0, 0]), 'cat_spe_feat8': tensor([1, 1, 1, 1]), 'cat_spe_feat9': tensor([0, 0, 0, 0]), 'cat_spe_feat10': tensor([0, 0, 0, 0]), 'register_game_seq': tensor([[0, 0, 0, 0, 0, 0, 0, 0, 0, 0, 0, 0, 0, 0, 0, 0, 0, 0, 0, 0],\n",
      "        [0, 0, 0, 0, 0, 0, 0, 0, 0, 0, 0, 0, 0, 0, 0, 0, 0, 0, 0, 0],\n",
      "        [0, 0, 0, 0, 0, 0, 0, 0, 0, 0, 0, 0, 0, 0, 0, 0, 0, 0, 0, 0],\n",
      "        [0, 0, 0, 0, 0, 0, 0, 0, 0, 0, 0, 0, 0, 0, 0, 0, 0, 0, 0, 0]]), 'active_game_seq': tensor([[0, 0, 0, 0, 0, 0, 0, 0, 0, 0, 0, 0, 0, 0, 0, 0, 0, 0, 0, 0],\n",
      "        [0, 0, 0, 0, 0, 0, 0, 0, 0, 0, 0, 0, 0, 0, 0, 0, 0, 0, 0, 0],\n",
      "        [0, 0, 0, 0, 0, 0, 0, 0, 0, 0, 0, 0, 0, 0, 0, 0, 0, 0, 0, 0],\n",
      "        [0, 0, 0, 0, 0, 0, 0, 0, 0, 0, 0, 0, 0, 0, 0, 0, 0, 0, 0, 0]]), 'onlinetime_seq': tensor([[0, 0, 0, 0, 0, 0, 0, 0, 0, 0, 0, 0, 0, 0, 0, 0, 0, 0, 0, 0],\n",
      "        [0, 0, 0, 0, 0, 0, 0, 0, 0, 0, 0, 0, 0, 0, 0, 0, 0, 0, 0, 0],\n",
      "        [0, 0, 0, 0, 0, 0, 0, 0, 0, 0, 0, 0, 0, 0, 0, 0, 0, 0, 0, 0],\n",
      "        [0, 0, 0, 0, 0, 0, 0, 0, 0, 0, 0, 0, 0, 0, 0, 0, 0, 0, 0, 0]]), 'pay_game_seq': tensor([[0, 0, 0, 0, 0, 0, 0, 0, 0, 0, 0, 0, 0, 0, 0, 0, 0, 0, 0, 0],\n",
      "        [0, 0, 0, 0, 0, 0, 0, 0, 0, 0, 0, 0, 0, 0, 0, 0, 0, 0, 0, 0],\n",
      "        [0, 0, 0, 0, 0, 0, 0, 0, 0, 0, 0, 0, 0, 0, 0, 0, 0, 0, 0, 0],\n",
      "        [0, 0, 0, 0, 0, 0, 0, 0, 0, 0, 0, 0, 0, 0, 0, 0, 0, 0, 0, 0]]), 'payment_seq': tensor([[0, 0, 0, 0, 0, 0, 0, 0, 0, 0, 0, 0, 0, 0, 0, 0, 0, 0, 0, 0],\n",
      "        [0, 0, 0, 0, 0, 0, 0, 0, 0, 0, 0, 0, 0, 0, 0, 0, 0, 0, 0, 0],\n",
      "        [0, 0, 0, 0, 0, 0, 0, 0, 0, 0, 0, 0, 0, 0, 0, 0, 0, 0, 0, 0],\n",
      "        [0, 0, 0, 0, 0, 0, 0, 0, 0, 0, 0, 0, 0, 0, 0, 0, 0, 0, 0, 0]]), 'o2_game_id_hash': tensor([868, 868, 868, 868]), 'media_type_hash': tensor([35, 35, 35, 35]), 'media_id_hash': tensor([0, 0, 0, 0])}, tensor([0., 0., 0., 0.], dtype=torch.float64))\n"
     ]
    }
   ],
   "execution_count": 5
  },
  {
   "metadata": {
    "ExecuteTime": {
     "end_time": "2024-09-15T02:58:08.830163Z",
     "start_time": "2024-09-15T02:58:08.793226Z"
    }
   },
   "cell_type": "code",
   "source": "result",
   "id": "17021e1ed5c305ad",
   "outputs": [
    {
     "data": {
      "text/plain": [
       "{'logit': tensor([[0.0428, 0.0662, 0.0000],\n",
       "         [0.0897, 0.1244, 0.0000],\n",
       "         [0.0431, 0.0595, 0.0000],\n",
       "         [0.0215, 0.0987, 0.0000]], device='cuda:0', grad_fn=<ReluBackward0>),\n",
       " 'loss': tensor(0.7182, device='cuda:0', dtype=torch.float64, grad_fn=<MeanBackward1>),\n",
       " 'prediction_p': tensor([0.5107, 0.5224, 0.5108, 0.5054], device='cuda:0',\n",
       "        grad_fn=<SigmoidBackward0>),\n",
       " 'prediction_v': tensor([0.6938, 0.7523, 0.6893, 0.7093], device='cuda:0',\n",
       "        grad_fn=<MulBackward0>)}"
      ]
     },
     "execution_count": 6,
     "metadata": {},
     "output_type": "execute_result"
    }
   ],
   "execution_count": 6
  },
  {
   "metadata": {},
   "cell_type": "code",
   "outputs": [],
   "execution_count": null,
   "source": "",
   "id": "88821bd875dd600d"
  }
 ],
 "metadata": {
  "kernelspec": {
   "display_name": "Python 3",
   "language": "python",
   "name": "python3"
  },
  "language_info": {
   "codemirror_mode": {
    "name": "ipython",
    "version": 2
   },
   "file_extension": ".py",
   "mimetype": "text/x-python",
   "name": "python",
   "nbconvert_exporter": "python",
   "pygments_lexer": "ipython2",
   "version": "2.7.6"
  }
 },
 "nbformat": 4,
 "nbformat_minor": 5
}
