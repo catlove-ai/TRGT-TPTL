{
 "cells": [
  {
   "metadata": {
    "ExecuteTime": {
     "end_time": "2024-09-20T10:54:08.666840Z",
     "start_time": "2024-09-20T10:53:01.106328Z"
    }
   },
   "cell_type": "code",
   "source": [
    "import pandas as pd\n",
    "from utils.common import get_root_path\n",
    "import os\n",
    "\n",
    "from utils.datasets import consistent_hash\n",
    "import json\n",
    "from utils.datasets import seq_bucket\n",
    "from config.features import ALL_FEATURES\n",
    "import torch\n",
    "from tqdm.auto import tqdm\n",
    "features = ALL_FEATURES"
   ],
   "id": "b93439b88041f590",
   "outputs": [],
   "execution_count": 1
  },
  {
   "metadata": {
    "ExecuteTime": {
     "end_time": "2024-09-20T10:54:08.669906Z",
     "start_time": "2024-09-20T10:54:08.667847Z"
    }
   },
   "cell_type": "code",
   "source": [
    "def pro(x):\n",
    "    return','.join([str(i) for i in json.loads(x)])"
   ],
   "id": "a35695fcd32fbec8",
   "outputs": [],
   "execution_count": 2
  },
  {
   "cell_type": "code",
   "id": "initial_id",
   "metadata": {
    "collapsed": true,
    "ExecuteTime": {
     "end_time": "2024-09-20T10:54:08.673481Z",
     "start_time": "2024-09-20T10:54:08.669906Z"
    }
   },
   "source": [
    "def process(jf_game_id, date):\n",
    "    path = os.path.join(get_root_path(), 'processed_data', f'{jf_game_id}/{jf_game_id}_6h_{date}.csv')\n",
    "    df = pd.read_csv(path)\n",
    "    for col in ['onlinetime_seq', 'payment_seq']:\n",
    "        df[col] = df[col].apply(lambda x: pro(x))\n",
    "    df.to_csv(path)"
   ],
   "outputs": [],
   "execution_count": 3
  },
  {
   "metadata": {
    "ExecuteTime": {
     "end_time": "2024-09-20T10:54:18.940978Z",
     "start_time": "2024-09-20T10:54:08.674485Z"
    }
   },
   "cell_type": "code",
   "source": [
    "for jf_game_id in ['wslg']:# , 'cmelive', 'af', 'jdqssy']:\n",
    "    for date in tqdm(list(range(723, 732)) + list(range(801, 830)), desc=jf_game_id):\n",
    "        process(jf_game_id, date)"
   ],
   "id": "d498e556f3afe38a",
   "outputs": [
    {
     "data": {
      "text/plain": [
       "wslg:   0%|          | 0/38 [00:00<?, ?it/s]"
      ],
      "application/vnd.jupyter.widget-view+json": {
       "version_major": 2,
       "version_minor": 0,
       "model_id": "ec5a583ac574432489381a198a989b3c"
      }
     },
     "metadata": {},
     "output_type": "display_data"
    },
    {
     "name": "stderr",
     "output_type": "stream",
     "text": [
      "C:\\Users\\hhaotian\\AppData\\Local\\Temp\\ipykernel_29308\\2959788937.py:3: DtypeWarning: Columns (5) have mixed types. Specify dtype option on import or set low_memory=False.\n",
      "  df = pd.read_csv(path)\n",
      "C:\\Users\\hhaotian\\AppData\\Local\\Temp\\ipykernel_29308\\2959788937.py:3: DtypeWarning: Columns (5) have mixed types. Specify dtype option on import or set low_memory=False.\n",
      "  df = pd.read_csv(path)\n",
      "C:\\Users\\hhaotian\\AppData\\Local\\Temp\\ipykernel_29308\\2959788937.py:3: DtypeWarning: Columns (5) have mixed types. Specify dtype option on import or set low_memory=False.\n",
      "  df = pd.read_csv(path)\n"
     ]
    }
   ],
   "execution_count": 4
  },
  {
   "metadata": {},
   "cell_type": "code",
   "outputs": [],
   "execution_count": null,
   "source": "",
   "id": "d377c07d8efdc4d7"
  }
 ],
 "metadata": {
  "kernelspec": {
   "display_name": "Python 3",
   "language": "python",
   "name": "python3"
  },
  "language_info": {
   "codemirror_mode": {
    "name": "ipython",
    "version": 2
   },
   "file_extension": ".py",
   "mimetype": "text/x-python",
   "name": "python",
   "nbconvert_exporter": "python",
   "pygments_lexer": "ipython2",
   "version": "2.7.6"
  }
 },
 "nbformat": 4,
 "nbformat_minor": 5
}
